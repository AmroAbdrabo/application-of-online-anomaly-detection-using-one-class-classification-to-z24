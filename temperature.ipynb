{
 "cells": [
  {
   "cell_type": "code",
   "execution_count": 2,
   "metadata": {},
   "outputs": [],
   "source": [
    "import numpy as np\n",
    "import matplotlib.pyplot as plt\n",
    "import sklearn\n",
    "from sklearn.decomposition import PCA\n",
    "from sklearn.manifold import TSNE\n",
    "from scipy.stats import skew, kurtosis\n",
    "import os\n",
    "import random\n",
    "import numpy as np\n",
    "from mpl_toolkits.mplot3d import Axes3D\n",
    "from scipy.signal import find_peaks\n",
    "import pandas as pd\n",
    "from scipy.fftpack import fft, fftfreq\n",
    "from scipy.signal import peak_widths, peak_prominences\n",
    "from scipy.io import loadmat\n",
    "import seaborn as sns\n",
    "from scipy.signal import spectrogram"
   ]
  },
  {
   "cell_type": "code",
   "execution_count": 1,
   "metadata": {},
   "outputs": [],
   "source": [
    "# get avt files\n",
    "def get_avt_files(root):\n",
    "    folder_path = root\n",
    "    file_list = os.listdir(folder_path)\n",
    "    avt_files = []\n",
    "\n",
    "    # walk inside data folder\n",
    "    for filename in file_list:\n",
    "        full_path = os.path.join(folder_path, filename)\n",
    "        cur_label = int(filename)\n",
    "\n",
    "        # walk inside data/[number]\n",
    "        file_nest_list = os.listdir(full_path)\n",
    "        for filename_1 in file_nest_list:\n",
    "            if filename_1 != \"avt\":\n",
    "                continue\n",
    "            else:\n",
    "                # full_path_2 is of the form C:\\Users\\amroa\\Documents\\thesis\\data\\01\\avt\n",
    "                full_path_2 = os.path.join(full_path, filename_1)\n",
    "                setup_filenames = [filename for filename in os.listdir(full_path_2) if \"setup\" in filename]\n",
    "                for avt_file in setup_filenames:\n",
    "                    full_path_3 = os.path.join(full_path_2, avt_file) # full_path_3 is of the form C:\\Users\\amroa\\Documents\\thesis\\data\\01\\avt\\01setup09.mat\n",
    "                    avt = loadmat(full_path_3)\n",
    "                    avt_files.append(avt)\n",
    "    return avt_files"
   ]
  },
  {
   "cell_type": "code",
   "execution_count": 3,
   "metadata": {},
   "outputs": [],
   "source": [
    "avt_files = get_avt_files(\"C:\\\\Users\\\\amroa\\\\Documents\\\\thesis\\\\data\")"
   ]
  },
  {
   "cell_type": "code",
   "execution_count": null,
   "metadata": {},
   "outputs": [],
   "source": []
  }
 ],
 "metadata": {
  "kernelspec": {
   "display_name": "Python 3",
   "language": "python",
   "name": "python3"
  },
  "language_info": {
   "codemirror_mode": {
    "name": "ipython",
    "version": 3
   },
   "file_extension": ".py",
   "mimetype": "text/x-python",
   "name": "python",
   "nbconvert_exporter": "python",
   "pygments_lexer": "ipython3",
   "version": "3.11.5"
  },
  "orig_nbformat": 4
 },
 "nbformat": 4,
 "nbformat_minor": 2
}
