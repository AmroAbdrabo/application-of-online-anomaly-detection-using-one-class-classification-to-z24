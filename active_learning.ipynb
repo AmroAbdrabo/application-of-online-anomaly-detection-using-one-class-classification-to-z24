{
 "cells": [
  {
   "cell_type": "markdown",
   "metadata": {},
   "source": [
    "### https://github.com/dsgissin/DiscriminativeActiveLearning/"
   ]
  },
  {
   "cell_type": "code",
   "execution_count": 2,
   "metadata": {},
   "outputs": [],
   "source": [
    "from models import get_discriminative_model\n",
    "from models import train_discriminative_model\n",
    "\n",
    "# Source: https://github.com/dsgissin/DiscriminativeActiveLearning/\n",
    "class QueryMethod:\n",
    "    \"\"\"\n",
    "    A general class for query strategies, with a general method for querying examples to be labeled.\n",
    "    \"\"\"\n",
    "\n",
    "    def __init__(self, model, input_shape=(28,28), num_labels=10, gpu=1):\n",
    "        self.model = model\n",
    "        self.input_shape = input_shape\n",
    "        self.num_labels = num_labels\n",
    "        self.gpu = gpu\n",
    "\n",
    "    def query(self, X_train, Y_train, labeled_idx, amount):\n",
    "        \"\"\"\n",
    "        get the indices of labeled examples after the given amount have been queried by the query strategy.\n",
    "        :param X_train: the training set\n",
    "        :param Y_train: the training labels\n",
    "        :param labeled_idx: the indices of the labeled examples\n",
    "        :param amount: the amount of examples to query\n",
    "        :return: the new labeled indices (including the ones queried)\n",
    "        \"\"\"\n",
    "        return NotImplemented\n",
    "\n",
    "    def update_model(self, new_model):\n",
    "        del self.model\n",
    "        gc.collect()\n",
    "        self.model = new_model\n",
    "\n",
    "import numpy as np\n",
    "def get_unlabeled_idx(X_train, labeled_idx):\n",
    "    \"\"\"\n",
    "    Given the training set and the indices of the labeled examples, return the indices of the unlabeled examples.\n",
    "    \"\"\"\n",
    "    return np.arange(X_train.shape[0])[np.logical_not(np.in1d(np.arange(X_train.shape[0]), labeled_idx))]\n",
    "\n",
    "\n",
    "from scipy.spatial import distance_matrix\n",
    "\n",
    "from keras.models import Model\n",
    "import keras.backend as K\n",
    "from keras.losses import categorical_crossentropy\n",
    "from keras.layers import Lambda\n",
    "from keras import optimizers\n",
    "import gc"
   ]
  },
  {
   "cell_type": "markdown",
   "metadata": {},
   "source": [
    "## Approach 1 - Discriminative Representation Active Learning"
   ]
  },
  {
   "cell_type": "code",
   "execution_count": 3,
   "metadata": {},
   "outputs": [],
   "source": [
    "class DiscriminativeRepresentationSampling(QueryMethod):\n",
    "    \"\"\"\n",
    "    An implementation of DAL (discriminative active learning), using the learned representation as our representation.\n",
    "    This implementation is the one which performs best in practice.\n",
    "    \"\"\"\n",
    "\n",
    "    def __init__(self, model, input_shape, num_labels, gpu):\n",
    "        super().__init__(model, input_shape, num_labels, gpu)\n",
    "\n",
    "        self.sub_batches = 20\n",
    "\n",
    "\n",
    "    def query(self, X_train, Y_train, labeled_idx, amount):\n",
    "\n",
    "        # subsample from the unlabeled set:\n",
    "        unlabeled_idx = get_unlabeled_idx(X_train, labeled_idx)\n",
    "        unlabeled_idx = np.random.choice(unlabeled_idx, np.min([labeled_idx.shape[0]*10, unlabeled_idx.size]), replace=False)\n",
    "\n",
    "        embedding_model = Model(inputs=self.model.input,\n",
    "                                outputs=self.model.get_layer('softmax').input)\n",
    "        representation = embedding_model.predict(X_train, batch_size=128).reshape((X_train.shape[0], -1, 1))\n",
    "\n",
    "        # iteratively sub-sample using the discriminative sampling routine:\n",
    "        labeled_so_far = 0\n",
    "        sub_sample_size = int(amount / self.sub_batches)\n",
    "        while labeled_so_far < amount:\n",
    "            if labeled_so_far + sub_sample_size > amount:\n",
    "                sub_sample_size = amount - labeled_so_far\n",
    "\n",
    "            model = train_discriminative_model(representation[labeled_idx], representation[unlabeled_idx], representation[0].shape, gpu=self.gpu)\n",
    "            predictions = model.predict(representation[unlabeled_idx])\n",
    "            selected_indices = np.argpartition(predictions[:,1], -sub_sample_size)[-sub_sample_size:]\n",
    "            labeled_idx = np.hstack((labeled_idx, unlabeled_idx[selected_indices]))\n",
    "            labeled_so_far += sub_sample_size\n",
    "            unlabeled_idx = get_unlabeled_idx(X_train, labeled_idx)\n",
    "            unlabeled_idx = np.random.choice(unlabeled_idx, np.min([labeled_idx.shape[0]*10, unlabeled_idx.size]), replace=False)\n",
    "\n",
    "            # delete the model to free GPU memory:\n",
    "            del model\n",
    "            gc.collect()\n",
    "        del embedding_model\n",
    "        gc.collect()\n",
    "\n",
    "        return labeled_idx\n"
   ]
  },
  {
   "cell_type": "code",
   "execution_count": null,
   "metadata": {},
   "outputs": [],
   "source": []
  }
 ],
 "metadata": {
  "kernelspec": {
   "display_name": "Python 3",
   "language": "python",
   "name": "python3"
  },
  "language_info": {
   "codemirror_mode": {
    "name": "ipython",
    "version": 3
   },
   "file_extension": ".py",
   "mimetype": "text/x-python",
   "name": "python",
   "nbconvert_exporter": "python",
   "pygments_lexer": "ipython3",
   "version": "3.8.8"
  },
  "orig_nbformat": 4
 },
 "nbformat": 4,
 "nbformat_minor": 2
}
