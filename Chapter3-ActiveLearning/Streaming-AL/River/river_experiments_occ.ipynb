{
 "cells": [
  {
   "cell_type": "markdown",
   "metadata": {},
   "source": [
    "## Incremental learning with River"
   ]
  },
  {
   "cell_type": "code",
   "execution_count": 68,
   "metadata": {},
   "outputs": [],
   "source": [
    "import numpy as np\n",
    "import seaborn as sns\n",
    "import matplotlib.pyplot as plt\n",
    "from sklearn.svm import OneClassSVM\n",
    "from sklearn.model_selection import GridSearchCV\n",
    "import sys\n",
    "from sklearn.metrics import roc_auc_score, f1_score, balanced_accuracy_score\n",
    "from scipy.stats import mode\n",
    "from sklearn.decomposition import PCA\n",
    "from sklearn.metrics import accuracy_score\n",
    "from sklearn.metrics import confusion_matrix\n",
    "from sklearn.model_selection import train_test_split\n",
    "from sklearn.metrics import roc_curve, auc\n",
    "from scipy.spatial.distance import mahalanobis\n",
    "import random\n",
    "sys.path.append('.\\\\..\\\\..\\\\..\\\\Chapter2-Z24-dataset')\n",
    "import random\n",
    "from river import anomaly\n",
    "from sklearn.preprocessing import StandardScaler, MinMaxScaler\n",
    "from predict import binarize\n",
    "import os"
   ]
  },
  {
   "cell_type": "code",
   "execution_count": 46,
   "metadata": {},
   "outputs": [],
   "source": [
    "X_train = np.load(\"C:\\\\Users\\\\amroa\\\\Documents\\\\thesis\\\\X_train.npy\")\n",
    "labels_train = np.load(\"C:\\\\Users\\\\amroa\\\\Documents\\\\thesis\\\\labels_train.npy\")\n",
    "X_test = np.load(\"C:\\\\Users\\\\amroa\\\\Documents\\\\thesis\\\\X_test.npy\")\n",
    "labels_test = np.load(\"C:\\\\Users\\\\amroa\\\\Documents\\\\thesis\\\\labels_test.npy\")"
   ]
  },
  {
   "cell_type": "code",
   "execution_count": 47,
   "metadata": {},
   "outputs": [
    {
     "data": {
      "text/plain": [
       "((544, 906), (68, 906))"
      ]
     },
     "execution_count": 47,
     "metadata": {},
     "output_type": "execute_result"
    }
   ],
   "source": [
    "X_train.shape, \\\n",
    "X_test.shape"
   ]
  },
  {
   "cell_type": "code",
   "execution_count": 48,
   "metadata": {},
   "outputs": [],
   "source": [
    "# feature selection (see previous part -- xgboost binary)\n",
    "subset_indices =  [191, 374, 328, 673]"
   ]
  },
  {
   "cell_type": "code",
   "execution_count": 49,
   "metadata": {},
   "outputs": [],
   "source": [
    "def plot_roc(true_y, y_prob, method_name):\n",
    "    fpr, tpr, _ = roc_curve(true_y, y_prob)\n",
    "    roc_auc = auc(fpr, tpr)\n",
    "    plt.figure()\n",
    "    lw = 2 \n",
    "    plt.plot(fpr, tpr, color='darkorange',\n",
    "            lw=lw, label='ROC curve (area = %0.2f)' % roc_auc)\n",
    "    plt.plot([0, 1], [0, 1], color='navy', lw=lw, linestyle='--')\n",
    "    plt.xlim([0.0, 1.0])\n",
    "    plt.ylim([0.0, 1.05])\n",
    "    plt.xlabel('False Positive Rate')\n",
    "    plt.ylabel('True Positive Rate')\n",
    "    plt.title(f'ROC for {method_name}')\n",
    "    plt.legend(loc=\"lower right\")\n",
    "    plt.show()"
   ]
  },
  {
   "cell_type": "markdown",
   "metadata": {},
   "source": [
    "### Recreate original dataset"
   ]
  },
  {
   "cell_type": "code",
   "execution_count": 50,
   "metadata": {},
   "outputs": [
    {
     "name": "stdout",
     "output_type": "stream",
     "text": [
      "544\n"
     ]
    }
   ],
   "source": [
    "test_indices=  np.array([])\n",
    "train_indices=  np.array([])\n",
    "\n",
    "for i in range(17):\n",
    "    random.seed(i)\n",
    "    nbr_splits = 36 #  recall 612/17 = 36, where 612 = total nbr of epochs, 17 is nbr of scenarios\n",
    "    test_split = 4\n",
    "    test_indices_temp = np.array(random.sample(range(nbr_splits), test_split))\n",
    "    test_indices = np.append(test_indices, i*nbr_splits + test_indices_temp)\n",
    "    train_indices = np.append(train_indices,  i*nbr_splits+ np.array([x for x in range(nbr_splits) if x not in test_indices_temp]))\n",
    "\n",
    "print(len(train_indices))"
   ]
  },
  {
   "cell_type": "code",
   "execution_count": 51,
   "metadata": {},
   "outputs": [],
   "source": [
    "train_ctr = 0\n",
    "test_ctr = 0\n",
    "data_all = []\n",
    "labels_all = []\n",
    "for i in range(612):\n",
    "    if i in train_indices:\n",
    "        data_all.append(X_train[train_ctr])\n",
    "        labels_all.append(labels_train[train_ctr])\n",
    "        train_ctr += 1\n",
    "    elif i in test_indices:\n",
    "        data_all.append(X_test[test_ctr])\n",
    "        labels_all.append(labels_test[test_ctr])\n",
    "        test_ctr += 1"
   ]
  },
  {
   "cell_type": "code",
   "execution_count": 52,
   "metadata": {},
   "outputs": [],
   "source": [
    "y_all = binarize(labels_all) # is the labels of all instances \n",
    "data_all = np.array(data_all) # are all the instances"
   ]
  },
  {
   "cell_type": "code",
   "execution_count": 53,
   "metadata": {},
   "outputs": [
    {
     "data": {
      "text/plain": [
       "((288, 4), (324, 4))"
      ]
     },
     "execution_count": 53,
     "metadata": {},
     "output_type": "execute_result"
    }
   ],
   "source": [
    "data_all_top = data_all[:, subset_indices] \n",
    "healthy_data = data_all_top[y_all == 0]\n",
    "damage_data = data_all_top[y_all == 1]\n",
    "healthy_data.shape, damage_data.shape"
   ]
  },
  {
   "cell_type": "code",
   "execution_count": 54,
   "metadata": {},
   "outputs": [],
   "source": [
    "# for occ labels are defined differently\n",
    "damage_labels  = -1*np.ones(damage_data.shape[0])\n",
    "healthy_labels =    np.ones(healthy_data.shape[0])"
   ]
  },
  {
   "cell_type": "code",
   "execution_count": 55,
   "metadata": {},
   "outputs": [],
   "source": [
    "def fill_between_plot(x_range, average_obs, std_obs, label, title):\n",
    "    plt.figure(figsize=(8, 5))\n",
    "    colors = ['blue', 'cyan', 'red', 'green']\n",
    "    for idx, (avg_obs, std_ob) in enumerate(zip(average_obs, std_obs)):\n",
    "        plt.plot(x_range, avg_obs, color = colors[idx], label=label)\n",
    "        plt.fill_between(x_range, avg_obs - std_ob, avg_obs + std_ob, color=colors[idx], alpha=0.5, label='1 std dev')\n",
    "    plt.title(title)\n",
    "    plt.xlabel(\"Healthy population sample size\")\n",
    "    plt.ylabel(label)\n",
    "    plt.legend()\n",
    "    plt.show()"
   ]
  },
  {
   "cell_type": "code",
   "execution_count": 56,
   "metadata": {},
   "outputs": [],
   "source": [
    "def fill_between_plot_diffx(x_ranges, average_obs, std_obs, label, title, labely):\n",
    "    plt.figure(figsize=(8, 5))\n",
    "    colors = ['blue', 'cyan', 'red', 'green']\n",
    "    \n",
    "    # Ensure that x_ranges, average_obs, and std_obs have the same length\n",
    "    if not (len(x_ranges) == len(average_obs) == len(std_obs)):\n",
    "        raise ValueError(\"Length of x_ranges, average_obs, and std_obs must be the same\")\n",
    "\n",
    "    for idx, (x_range, avg_obs, std_ob) in enumerate(zip(x_ranges, average_obs, std_obs)):\n",
    "        plt.plot(x_range, avg_obs, color=colors[idx % len(colors)], label=f'{label[idx]}')\n",
    "        plt.fill_between(x_range, avg_obs - std_ob, avg_obs + std_ob, color=colors[idx % len(colors)], alpha=0.5, label='1 std dev')\n",
    "    \n",
    "    plt.title(title)\n",
    "    plt.xlabel(\"Healthy population sample size\")\n",
    "    plt.ylabel(labely)\n",
    "    plt.legend()\n",
    "    plt.show()"
   ]
  },
  {
   "cell_type": "markdown",
   "metadata": {},
   "source": [
    "### Test and training dataset"
   ]
  },
  {
   "cell_type": "code",
   "execution_count": 57,
   "metadata": {},
   "outputs": [
    {
     "data": {
      "text/plain": [
       "((288, 4), (324, 4))"
      ]
     },
     "execution_count": 57,
     "metadata": {},
     "output_type": "execute_result"
    }
   ],
   "source": [
    "healthy_data.shape, damage_data.shape"
   ]
  },
  {
   "cell_type": "code",
   "execution_count": 58,
   "metadata": {},
   "outputs": [
    {
     "name": "stdout",
     "output_type": "stream",
     "text": [
      "[ 35  13  26  30  16  31  21  12   8  17   9  34   0   4  29  15  19   5\n",
      "  11   1  24   2  33   3  32  23  27  51  52  40  45  64  57  46  41  54\n",
      "  48  61  58  65  36  62  71  59  43  47  67  50  55  37  69  68  66  49\n",
      "  73  82  76 104  77  74 102 106  95  83  78  88  72  93  90  91  80  96\n",
      "  99 107  84 100  92  98  94 103  79 118 136 111 127 128 120 113 139 143\n",
      " 117 134 125 124 121 122 132 126 141 129 138 137 110 142 131 133 130 123\n",
      " 170 174 164 146 151 159 144 161 165 152 177 163 169 157 168 160 155 149\n",
      " 167 153 145 162 172 171 176 154 158 202 213 183 190 195 200 215 205 212\n",
      " 197 208 207 214 181 186 193 204 211 196 199 210 201 194 203 191 189 198\n",
      " 228 231 235 250 222 223 225 229 240 218 233 237 244 224 249 230 239 251\n",
      " 246 220 242 232 226 243 219 238 221 277 275 274 255 257 273 272 266 282\n",
      " 285 264 256 263 265 276 253 268 287 267 279 254 261 278 262 281 280 269]\n"
     ]
    },
    {
     "data": {
      "text/plain": [
       "((216, 4), (324, 4), (72, 4))"
      ]
     },
     "execution_count": 58,
     "metadata": {},
     "output_type": "execute_result"
    }
   ],
   "source": [
    "random.seed(42)\n",
    "test_size = 0.25\n",
    "np.random.seed(42)\n",
    "healthy_idx = np.concatenate([[i*36 + np.random.choice(36, size=int(36*(1-test_size)), replace=False)] for i in range(8)], axis=1)[0]\n",
    "print(healthy_idx)\n",
    "healthy_train = healthy_data[np.sort(healthy_idx), :]\n",
    "healthy_test = healthy_data[np.sort(np.array([i for i in range(healthy_data.shape[0]) if i not in healthy_idx])), :]\n",
    "\n",
    "dam_test = damage_data\n",
    "healthy_train.shape, dam_test.shape, healthy_test.shape"
   ]
  },
  {
   "cell_type": "code",
   "execution_count": 59,
   "metadata": {},
   "outputs": [],
   "source": [
    "test_data = np.vstack([healthy_test, dam_test])\n",
    "test_labels = np.repeat([1, -1], [healthy_test.shape[0], dam_test.shape[0]]).astype(int)\n",
    "\n",
    "train_data = healthy_train\n",
    "train_labels = np.full(train_data.shape[0], 1).astype(int)"
   ]
  },
  {
   "cell_type": "code",
   "execution_count": 60,
   "metadata": {},
   "outputs": [
    {
     "data": {
      "text/html": [
       "<style>#sk-container-id-2 {color: black;}#sk-container-id-2 pre{padding: 0;}#sk-container-id-2 div.sk-toggleable {background-color: white;}#sk-container-id-2 label.sk-toggleable__label {cursor: pointer;display: block;width: 100%;margin-bottom: 0;padding: 0.3em;box-sizing: border-box;text-align: center;}#sk-container-id-2 label.sk-toggleable__label-arrow:before {content: \"▸\";float: left;margin-right: 0.25em;color: #696969;}#sk-container-id-2 label.sk-toggleable__label-arrow:hover:before {color: black;}#sk-container-id-2 div.sk-estimator:hover label.sk-toggleable__label-arrow:before {color: black;}#sk-container-id-2 div.sk-toggleable__content {max-height: 0;max-width: 0;overflow: hidden;text-align: left;background-color: #f0f8ff;}#sk-container-id-2 div.sk-toggleable__content pre {margin: 0.2em;color: black;border-radius: 0.25em;background-color: #f0f8ff;}#sk-container-id-2 input.sk-toggleable__control:checked~div.sk-toggleable__content {max-height: 200px;max-width: 100%;overflow: auto;}#sk-container-id-2 input.sk-toggleable__control:checked~label.sk-toggleable__label-arrow:before {content: \"▾\";}#sk-container-id-2 div.sk-estimator input.sk-toggleable__control:checked~label.sk-toggleable__label {background-color: #d4ebff;}#sk-container-id-2 div.sk-label input.sk-toggleable__control:checked~label.sk-toggleable__label {background-color: #d4ebff;}#sk-container-id-2 input.sk-hidden--visually {border: 0;clip: rect(1px 1px 1px 1px);clip: rect(1px, 1px, 1px, 1px);height: 1px;margin: -1px;overflow: hidden;padding: 0;position: absolute;width: 1px;}#sk-container-id-2 div.sk-estimator {font-family: monospace;background-color: #f0f8ff;border: 1px dotted black;border-radius: 0.25em;box-sizing: border-box;margin-bottom: 0.5em;}#sk-container-id-2 div.sk-estimator:hover {background-color: #d4ebff;}#sk-container-id-2 div.sk-parallel-item::after {content: \"\";width: 100%;border-bottom: 1px solid gray;flex-grow: 1;}#sk-container-id-2 div.sk-label:hover label.sk-toggleable__label {background-color: #d4ebff;}#sk-container-id-2 div.sk-serial::before {content: \"\";position: absolute;border-left: 1px solid gray;box-sizing: border-box;top: 0;bottom: 0;left: 50%;z-index: 0;}#sk-container-id-2 div.sk-serial {display: flex;flex-direction: column;align-items: center;background-color: white;padding-right: 0.2em;padding-left: 0.2em;position: relative;}#sk-container-id-2 div.sk-item {position: relative;z-index: 1;}#sk-container-id-2 div.sk-parallel {display: flex;align-items: stretch;justify-content: center;background-color: white;position: relative;}#sk-container-id-2 div.sk-item::before, #sk-container-id-2 div.sk-parallel-item::before {content: \"\";position: absolute;border-left: 1px solid gray;box-sizing: border-box;top: 0;bottom: 0;left: 50%;z-index: -1;}#sk-container-id-2 div.sk-parallel-item {display: flex;flex-direction: column;z-index: 1;position: relative;background-color: white;}#sk-container-id-2 div.sk-parallel-item:first-child::after {align-self: flex-end;width: 50%;}#sk-container-id-2 div.sk-parallel-item:last-child::after {align-self: flex-start;width: 50%;}#sk-container-id-2 div.sk-parallel-item:only-child::after {width: 0;}#sk-container-id-2 div.sk-dashed-wrapped {border: 1px dashed gray;margin: 0 0.4em 0.5em 0.4em;box-sizing: border-box;padding-bottom: 0.4em;background-color: white;}#sk-container-id-2 div.sk-label label {font-family: monospace;font-weight: bold;display: inline-block;line-height: 1.2em;}#sk-container-id-2 div.sk-label-container {text-align: center;}#sk-container-id-2 div.sk-container {/* jupyter's `normalize.less` sets `[hidden] { display: none; }` but bootstrap.min.css set `[hidden] { display: none !important; }` so we also need the `!important` here to be able to override the default hidden behavior on the sphinx rendered scikit-learn.org. See: https://github.com/scikit-learn/scikit-learn/issues/21755 */display: inline-block !important;position: relative;}#sk-container-id-2 div.sk-text-repr-fallback {display: none;}</style><div id=\"sk-container-id-2\" class=\"sk-top-container\"><div class=\"sk-text-repr-fallback\"><pre>PCA(n_components=3)</pre><b>In a Jupyter environment, please rerun this cell to show the HTML representation or trust the notebook. <br />On GitHub, the HTML representation is unable to render, please try loading this page with nbviewer.org.</b></div><div class=\"sk-container\" hidden><div class=\"sk-item\"><div class=\"sk-estimator sk-toggleable\"><input class=\"sk-toggleable__control sk-hidden--visually\" id=\"sk-estimator-id-2\" type=\"checkbox\" checked><label for=\"sk-estimator-id-2\" class=\"sk-toggleable__label sk-toggleable__label-arrow\">PCA</label><div class=\"sk-toggleable__content\"><pre>PCA(n_components=3)</pre></div></div></div></div></div>"
      ],
      "text/plain": [
       "PCA(n_components=3)"
      ]
     },
     "execution_count": 60,
     "metadata": {},
     "output_type": "execute_result"
    }
   ],
   "source": [
    "pca = PCA(n_components=3)\n",
    "sc = StandardScaler()\n",
    "\n",
    "sc.fit(healthy_data[0:36])\n",
    "pca.fit(healthy_data[0:36])"
   ]
  },
  {
   "cell_type": "code",
   "execution_count": 17,
   "metadata": {},
   "outputs": [
    {
     "data": {
      "text/plain": [
       "(324, 4)"
      ]
     },
     "execution_count": 17,
     "metadata": {},
     "output_type": "execute_result"
    }
   ],
   "source": [
    "damage_data.shape"
   ]
  },
  {
   "cell_type": "markdown",
   "metadata": {},
   "source": [
    "## Visualization (static)"
   ]
  },
  {
   "cell_type": "markdown",
   "metadata": {},
   "source": [
    "### Time color-coded - static"
   ]
  },
  {
   "cell_type": "code",
   "execution_count": 222,
   "metadata": {},
   "outputs": [
    {
     "name": "stdout",
     "output_type": "stream",
     "text": [
      "(612, 4)\n"
     ]
    }
   ],
   "source": [
    "import matplotlib\n",
    "matplotlib.use('Qt5Agg')\n",
    "data_plot = np.vstack([healthy_data, damage_data])\n",
    "data_plot = pca.transform(data_plot)\n",
    "\n",
    "plt.figure(figsize=(10, 6))\n",
    "plt.scatter(data_plot[:, 0], data_plot[:, 1], c=range(len(data_plot)), cmap='viridis')\n",
    "plt.xlabel('PC 1')\n",
    "plt.ylabel('PC 2')\n",
    "plt.colorbar(label='Time')\n",
    "plt.title('$[x_{R1V}, x_{R2L}, x_{R2T}, x_{R2V}, x_{R3V}]_t$ in PC Space')\n",
    "\n",
    "plt.show()"
   ]
  },
  {
   "cell_type": "code",
   "execution_count": 149,
   "metadata": {},
   "outputs": [],
   "source": [
    "plt.figure(figsize=(10, 6))\n",
    "plt.scatter(data_plot[:, 1], data_plot[:, 2], c=range(len(data_plot)), cmap='viridis')\n",
    "plt.xlabel('PC 2')\n",
    "plt.ylabel('PC 3')\n",
    "plt.colorbar(label='Time')\n",
    "plt.title('$[x_{R1V}, x_{R2L}, x_{R2T}, x_{R2V}, x_{R3V}]_t$ in PC Space')\n",
    "\n",
    "plt.show()"
   ]
  },
  {
   "cell_type": "code",
   "execution_count": 150,
   "metadata": {},
   "outputs": [],
   "source": [
    "plt.figure(figsize=(10, 6))\n",
    "plt.scatter(data_plot[:, 0], data_plot[:, 2], c=range(len(data_plot)), cmap='viridis')\n",
    "plt.xlabel('PC 1')\n",
    "plt.ylabel('PC 3')\n",
    "plt.colorbar(label='Time')\n",
    "plt.title('$[x_{R1V}, x_{R2L}, x_{R2T}, x_{R2V}, x_{R3V}]_t$ in PC Space')\n",
    "\n",
    "plt.show()"
   ]
  },
  {
   "cell_type": "markdown",
   "metadata": {},
   "source": [
    "### Healthy vs damaged scatter plots - static"
   ]
  },
  {
   "cell_type": "code",
   "execution_count": 153,
   "metadata": {},
   "outputs": [],
   "source": [
    "plt.figure(figsize=(10, 6))\n",
    "plt.scatter(data_plot[healthy_data.shape[0]:, 0], data_plot[healthy_data.shape[0]:, 2],  color='red')\n",
    "plt.scatter(data_plot[:healthy_data.shape[0], 0], data_plot[:healthy_data.shape[0], 2], color='blue')\n",
    "plt.xlabel('PC 1')\n",
    "plt.ylabel('PC 3')\n",
    "plt.title('$[x_{R1V}, x_{R2L}, x_{R2T}, x_{R2V}, x_{R3V}]_t$ in PC Space')\n",
    "\n",
    "plt.show()"
   ]
  },
  {
   "cell_type": "code",
   "execution_count": 154,
   "metadata": {},
   "outputs": [],
   "source": [
    "plt.figure(figsize=(10, 6))\n",
    "plt.scatter(data_plot[healthy_data.shape[0]:, 1], data_plot[healthy_data.shape[0]:, 2],  color='red')\n",
    "plt.scatter(data_plot[:healthy_data.shape[0], 1], data_plot[:healthy_data.shape[0], 2], color='blue')\n",
    "plt.xlabel('PC 2')\n",
    "plt.ylabel('PC 3')\n",
    "plt.title('$[x_{R1V}, x_{R2L}, x_{R2T}, x_{R2V}, x_{R3V}]_t$ in PC Space')\n",
    "\n",
    "plt.show()"
   ]
  },
  {
   "cell_type": "code",
   "execution_count": 155,
   "metadata": {},
   "outputs": [],
   "source": [
    "plt.figure(figsize=(10, 6))\n",
    "plt.scatter(data_plot[healthy_data.shape[0]:, 0], data_plot[healthy_data.shape[0]:, 1],  color='red')\n",
    "plt.scatter(data_plot[:healthy_data.shape[0], 0], data_plot[:healthy_data.shape[0], 1], color='blue')\n",
    "plt.xlabel('PC 1')\n",
    "plt.ylabel('PC 2')\n",
    "plt.title('$[x_{R1V}, x_{R2L}, x_{R2T}, x_{R2V}, x_{R3V}]_t$ in PC Space')\n",
    "\n",
    "plt.show()"
   ]
  },
  {
   "cell_type": "code",
   "execution_count": 223,
   "metadata": {},
   "outputs": [],
   "source": [
    "np.save(\"data_plot.npy\", data_plot)"
   ]
  },
  {
   "cell_type": "markdown",
   "metadata": {},
   "source": [
    "### Healthy vs damaged - animated"
   ]
  },
  {
   "cell_type": "code",
   "execution_count": 233,
   "metadata": {},
   "outputs": [],
   "source": [
    "import matplotlib.animation as animation\n",
    "matplotlib.use('Qt5Agg')  # 'Qt5Agg', 'Qt4Agg', 'GTK3Agg', 'WXAgg'\n",
    "\n",
    "data_plot = np.load(\"data_plot.npy\")\n",
    "fig, ax = plt.subplots(figsize=(10, 6))\n",
    "ax.set_xlabel('PC 1')\n",
    "ax.set_ylabel('PC 2')\n",
    "ax.set_title('$[x_{R1V}, x_{R2L}, x_{R2T}, x_{R2V}, x_{R3V}]_t$ in PC Space')\n",
    "ax.set_xlim(data_plot[:, 0].min() - 1, data_plot[:, 0].max() + 1)\n",
    "ax.set_ylim(data_plot[:, 1].min() - 1, data_plot[:, 1].max() + 1)\n",
    "current_num_text = ax.text(0.05, 0.95, '', transform=ax.transAxes)\n",
    "\n",
    "# Animation function for showing scatter points one by one\n",
    "def update(num):\n",
    "    point = ax.scatter(data_plot[num, 0], data_plot[num, 1], color='blue' if num < healthy_data.shape[0] else 'red', marker = 'o', s=30)\n",
    "    current_num_text.set_text(f'Instance: {num}')\n",
    "    return point, current_num_text\n",
    "\n",
    "# Creating the new animation\n",
    "ani = animation.FuncAnimation(fig, update, frames=data_plot.shape[0], interval=10, blit=True)\n",
    "ani.save('pc1pc2animation.gif', writer='pillow')\n",
    "plt.close()  # Close the plot to finalize the animation file creation"
   ]
  },
  {
   "cell_type": "code",
   "execution_count": 234,
   "metadata": {},
   "outputs": [
    {
     "name": "stderr",
     "output_type": "stream",
     "text": [
      "Traceback (most recent call last):\n",
      "  File \"c:\\Users\\amroa\\AppData\\Local\\Programs\\Python\\Python311\\Lib\\site-packages\\matplotlib\\cbook\\__init__.py\", line 309, in process\n",
      "    func(*args, **kwargs)\n",
      "  File \"c:\\Users\\amroa\\AppData\\Local\\Programs\\Python\\Python311\\Lib\\site-packages\\matplotlib\\animation.py\", line 908, in _start\n",
      "    self.event_source.add_callback(self._step)\n",
      "    ^^^^^^^^^^^^^^^^^^^^^^^^^^^^^^\n",
      "AttributeError: 'NoneType' object has no attribute 'add_callback'\n"
     ]
    },
    {
     "name": "stderr",
     "output_type": "stream",
     "text": [
      "Traceback (most recent call last):\n",
      "  File \"c:\\Users\\amroa\\AppData\\Local\\Programs\\Python\\Python311\\Lib\\site-packages\\matplotlib\\cbook\\__init__.py\", line 309, in process\n",
      "    func(*args, **kwargs)\n",
      "  File \"c:\\Users\\amroa\\AppData\\Local\\Programs\\Python\\Python311\\Lib\\site-packages\\matplotlib\\animation.py\", line 908, in _start\n",
      "    self.event_source.add_callback(self._step)\n",
      "    ^^^^^^^^^^^^^^^^^^^^^^^^^^^^^^\n",
      "AttributeError: 'NoneType' object has no attribute 'add_callback'\n"
     ]
    }
   ],
   "source": [
    "fig, ax = plt.subplots(figsize=(10, 6))\n",
    "ax.set_xlabel('PC 1')\n",
    "ax.set_ylabel('PC 3')\n",
    "ax.set_title('$[x_{R1V}, x_{R2L}, x_{R2T}, x_{R2V}, x_{R3V}]_t$ in PC Space')\n",
    "ax.set_xlim(data_plot[:, 0].min() - 1, data_plot[:, 0].max() + 1)\n",
    "ax.set_ylim(data_plot[:, 2].min() - 1, data_plot[:, 2].max() + 1)\n",
    "current_num_text = ax.text(0.05, 0.95, '', transform=ax.transAxes)\n",
    "\n",
    "# Animation function for showing scatter points one by one\n",
    "def update(num):\n",
    "    point = ax.scatter(data_plot[num, 0], data_plot[num, 2], color='blue' if num < healthy_data.shape[0] else 'red', marker = 'o', s=30)\n",
    "    current_num_text.set_text(f'Instance: {num}')\n",
    "    return point, current_num_text\n",
    "\n",
    "# Creating the new animation\n",
    "ani = animation.FuncAnimation(fig, update, frames=data_plot.shape[0], interval=10, blit=True)\n",
    "ani.save('pc1pc3animation.gif', writer='pillow')\n",
    "plt.close()  # Close the plot to finalize the animation file creation"
   ]
  },
  {
   "cell_type": "code",
   "execution_count": 232,
   "metadata": {},
   "outputs": [
    {
     "name": "stderr",
     "output_type": "stream",
     "text": [
      "Traceback (most recent call last):\n",
      "  File \"c:\\Users\\amroa\\AppData\\Local\\Programs\\Python\\Python311\\Lib\\site-packages\\matplotlib\\cbook\\__init__.py\", line 309, in process\n",
      "    func(*args, **kwargs)\n",
      "  File \"c:\\Users\\amroa\\AppData\\Local\\Programs\\Python\\Python311\\Lib\\site-packages\\matplotlib\\animation.py\", line 908, in _start\n",
      "    self.event_source.add_callback(self._step)\n",
      "    ^^^^^^^^^^^^^^^^^^^^^^^^^^^^^^\n",
      "AttributeError: 'NoneType' object has no attribute 'add_callback'\n"
     ]
    }
   ],
   "source": [
    "fig, ax = plt.subplots(figsize=(10, 6))\n",
    "ax.set_xlabel('PC 2')\n",
    "ax.set_ylabel('PC 3')\n",
    "ax.set_title('$[x_{R1V}, x_{R2L}, x_{R2T}, x_{R2V}, x_{R3V}]_t$ in PC Space')\n",
    "ax.set_xlim(data_plot[:, 1].min() - 1, data_plot[:, 1].max() + 1)\n",
    "ax.set_ylim(data_plot[:, 2].min() - 1, data_plot[:, 2].max() + 1)\n",
    "current_num_text = ax.text(0.05, 0.95, '', transform=ax.transAxes)\n",
    "\n",
    "# Animation function for showing scatter points one by one\n",
    "def update(num):\n",
    "    point = ax.scatter(data_plot[num, 1], data_plot[num, 2], color='blue' if num < healthy_data.shape[0] else 'red', marker = 'o', s=30)\n",
    "    current_num_text.set_text(f'Instance: {num}')\n",
    "    return point, current_num_text\n",
    "\n",
    "# Creating the new animation\n",
    "ani = animation.FuncAnimation(fig, update, frames=data_plot.shape[0], interval=10, blit=True)\n",
    "ani.save('pc2pc3animation.gif', writer='pillow')\n",
    "plt.close()  # Close the plot to finalize the animation file creation"
   ]
  },
  {
   "cell_type": "code",
   "execution_count": 238,
   "metadata": {},
   "outputs": [
    {
     "name": "stdout",
     "output_type": "stream",
     "text": [
      "(4, 4)\n"
     ]
    }
   ],
   "source": [
    "corr = np.corrcoef(data_all_top, rowvar=False)\n",
    "print(corr.shape)\n",
    "\n",
    "mask = np.triu(np.ones_like(corr, dtype=bool))\n",
    "plt.figure(figsize=(10, 8))\n",
    "sns.heatmap(corr, mask=mask, cmap='viridis', vmax=1, center=0,\n",
    "            square=True, linewidths=.5, annot=True, cbar_kws={\"shrink\": .5})\n",
    "plt.title('Correlation Matrix')\n",
    "plt.show()"
   ]
  },
  {
   "cell_type": "code",
   "execution_count": 18,
   "metadata": {},
   "outputs": [],
   "source": [
    "param_grid_occ_svm = {\n",
    "    'nu': [0.01, 0.1, 0.2], \n",
    "    'gamma': ['scale', 'auto'],\n",
    "    'tol': [1e-3, 1e-2, 1e-1],\n",
    "    'kernel': ['rbf']\n",
    "} # rbf by default"
   ]
  },
  {
   "cell_type": "markdown",
   "metadata": {},
   "source": [
    "### Story\n",
    "Train OCC on first health scenario, then data comes one by one. Each data point that arrives is added to the support of the OCC. The OCC detects weather each new arriving point is anomalous or not. After accumulation of all healthy points into the support occurs, we test on all damage data to see whether it will report healthy or damaged. Note, to be realistic the support should be implemented incrementally, i.e. naively storing all arriving instances is not realistic.   "
   ]
  },
  {
   "cell_type": "code",
   "execution_count": 61,
   "metadata": {},
   "outputs": [
    {
     "data": {
      "text/plain": [
       "((288, 4), (324, 4), (288, 3), (324, 3))"
      ]
     },
     "execution_count": 61,
     "metadata": {},
     "output_type": "execute_result"
    }
   ],
   "source": [
    "healthy_data_top = pca.transform(sc.transform(healthy_data))\n",
    "damage_data_top  = pca.transform(sc.transform(damage_data))\n",
    "\n",
    "healthy_data.shape, damage_data.shape, healthy_data_top.shape, damage_data_top.shape"
   ]
  },
  {
   "cell_type": "code",
   "execution_count": 62,
   "metadata": {},
   "outputs": [
    {
     "name": "stdout",
     "output_type": "stream",
     "text": [
      "[[-0.05803742 -0.99713111  0.04461419  0.01925557]\n",
      " [-0.04742084 -0.02222721 -0.13119466 -0.98997231]\n",
      " [ 0.62600635 -0.0696001  -0.77316884  0.07403934]]\n"
     ]
    }
   ],
   "source": [
    "print(pca.components_)"
   ]
  },
  {
   "cell_type": "code",
   "execution_count": 20,
   "metadata": {},
   "outputs": [
    {
     "data": {
      "application/vnd.plotly.v1+json": {
       "config": {
        "plotlyServerURL": "https://plot.ly"
       },
       "data": [
        {
         "link": {
          "source": [
           0,
           0,
           0,
           0,
           1,
           1,
           1,
           1,
           2,
           2,
           2,
           2
          ],
          "target": [
           3,
           4,
           5,
           6,
           3,
           4,
           5,
           6,
           3,
           4,
           5,
           6
          ],
          "value": [
           0.05803741996349954,
           0.9971311121915525,
           0.0446141915643761,
           0.019255567887607968,
           0.047420841934899455,
           0.02222720690178888,
           0.13119466299031518,
           0.9899723104341798,
           0.6260063525067175,
           0.06960010157188488,
           0.7731688361647729,
           0.07403933593724966
          ]
         },
         "node": {
          "label": [
           "PCA 1",
           "PCA 2",
           "PCA 3",
           "fft_range_50",
           "rel_pos_psd",
           "coeffs_psd",
           "rel_pos_trans"
          ],
          "line": {
           "color": "black",
           "width": 0.5
          },
          "pad": 15,
          "thickness": 20
         },
         "type": "sankey"
        }
       ],
       "layout": {
        "font": {
         "size": 20
        },
        "template": {
         "data": {
          "bar": [
           {
            "error_x": {
             "color": "#2a3f5f"
            },
            "error_y": {
             "color": "#2a3f5f"
            },
            "marker": {
             "line": {
              "color": "#E5ECF6",
              "width": 0.5
             },
             "pattern": {
              "fillmode": "overlay",
              "size": 10,
              "solidity": 0.2
             }
            },
            "type": "bar"
           }
          ],
          "barpolar": [
           {
            "marker": {
             "line": {
              "color": "#E5ECF6",
              "width": 0.5
             },
             "pattern": {
              "fillmode": "overlay",
              "size": 10,
              "solidity": 0.2
             }
            },
            "type": "barpolar"
           }
          ],
          "carpet": [
           {
            "aaxis": {
             "endlinecolor": "#2a3f5f",
             "gridcolor": "white",
             "linecolor": "white",
             "minorgridcolor": "white",
             "startlinecolor": "#2a3f5f"
            },
            "baxis": {
             "endlinecolor": "#2a3f5f",
             "gridcolor": "white",
             "linecolor": "white",
             "minorgridcolor": "white",
             "startlinecolor": "#2a3f5f"
            },
            "type": "carpet"
           }
          ],
          "choropleth": [
           {
            "colorbar": {
             "outlinewidth": 0,
             "ticks": ""
            },
            "type": "choropleth"
           }
          ],
          "contour": [
           {
            "colorbar": {
             "outlinewidth": 0,
             "ticks": ""
            },
            "colorscale": [
             [
              0,
              "#0d0887"
             ],
             [
              0.1111111111111111,
              "#46039f"
             ],
             [
              0.2222222222222222,
              "#7201a8"
             ],
             [
              0.3333333333333333,
              "#9c179e"
             ],
             [
              0.4444444444444444,
              "#bd3786"
             ],
             [
              0.5555555555555556,
              "#d8576b"
             ],
             [
              0.6666666666666666,
              "#ed7953"
             ],
             [
              0.7777777777777778,
              "#fb9f3a"
             ],
             [
              0.8888888888888888,
              "#fdca26"
             ],
             [
              1,
              "#f0f921"
             ]
            ],
            "type": "contour"
           }
          ],
          "contourcarpet": [
           {
            "colorbar": {
             "outlinewidth": 0,
             "ticks": ""
            },
            "type": "contourcarpet"
           }
          ],
          "heatmap": [
           {
            "colorbar": {
             "outlinewidth": 0,
             "ticks": ""
            },
            "colorscale": [
             [
              0,
              "#0d0887"
             ],
             [
              0.1111111111111111,
              "#46039f"
             ],
             [
              0.2222222222222222,
              "#7201a8"
             ],
             [
              0.3333333333333333,
              "#9c179e"
             ],
             [
              0.4444444444444444,
              "#bd3786"
             ],
             [
              0.5555555555555556,
              "#d8576b"
             ],
             [
              0.6666666666666666,
              "#ed7953"
             ],
             [
              0.7777777777777778,
              "#fb9f3a"
             ],
             [
              0.8888888888888888,
              "#fdca26"
             ],
             [
              1,
              "#f0f921"
             ]
            ],
            "type": "heatmap"
           }
          ],
          "heatmapgl": [
           {
            "colorbar": {
             "outlinewidth": 0,
             "ticks": ""
            },
            "colorscale": [
             [
              0,
              "#0d0887"
             ],
             [
              0.1111111111111111,
              "#46039f"
             ],
             [
              0.2222222222222222,
              "#7201a8"
             ],
             [
              0.3333333333333333,
              "#9c179e"
             ],
             [
              0.4444444444444444,
              "#bd3786"
             ],
             [
              0.5555555555555556,
              "#d8576b"
             ],
             [
              0.6666666666666666,
              "#ed7953"
             ],
             [
              0.7777777777777778,
              "#fb9f3a"
             ],
             [
              0.8888888888888888,
              "#fdca26"
             ],
             [
              1,
              "#f0f921"
             ]
            ],
            "type": "heatmapgl"
           }
          ],
          "histogram": [
           {
            "marker": {
             "pattern": {
              "fillmode": "overlay",
              "size": 10,
              "solidity": 0.2
             }
            },
            "type": "histogram"
           }
          ],
          "histogram2d": [
           {
            "colorbar": {
             "outlinewidth": 0,
             "ticks": ""
            },
            "colorscale": [
             [
              0,
              "#0d0887"
             ],
             [
              0.1111111111111111,
              "#46039f"
             ],
             [
              0.2222222222222222,
              "#7201a8"
             ],
             [
              0.3333333333333333,
              "#9c179e"
             ],
             [
              0.4444444444444444,
              "#bd3786"
             ],
             [
              0.5555555555555556,
              "#d8576b"
             ],
             [
              0.6666666666666666,
              "#ed7953"
             ],
             [
              0.7777777777777778,
              "#fb9f3a"
             ],
             [
              0.8888888888888888,
              "#fdca26"
             ],
             [
              1,
              "#f0f921"
             ]
            ],
            "type": "histogram2d"
           }
          ],
          "histogram2dcontour": [
           {
            "colorbar": {
             "outlinewidth": 0,
             "ticks": ""
            },
            "colorscale": [
             [
              0,
              "#0d0887"
             ],
             [
              0.1111111111111111,
              "#46039f"
             ],
             [
              0.2222222222222222,
              "#7201a8"
             ],
             [
              0.3333333333333333,
              "#9c179e"
             ],
             [
              0.4444444444444444,
              "#bd3786"
             ],
             [
              0.5555555555555556,
              "#d8576b"
             ],
             [
              0.6666666666666666,
              "#ed7953"
             ],
             [
              0.7777777777777778,
              "#fb9f3a"
             ],
             [
              0.8888888888888888,
              "#fdca26"
             ],
             [
              1,
              "#f0f921"
             ]
            ],
            "type": "histogram2dcontour"
           }
          ],
          "mesh3d": [
           {
            "colorbar": {
             "outlinewidth": 0,
             "ticks": ""
            },
            "type": "mesh3d"
           }
          ],
          "parcoords": [
           {
            "line": {
             "colorbar": {
              "outlinewidth": 0,
              "ticks": ""
             }
            },
            "type": "parcoords"
           }
          ],
          "pie": [
           {
            "automargin": true,
            "type": "pie"
           }
          ],
          "scatter": [
           {
            "fillpattern": {
             "fillmode": "overlay",
             "size": 10,
             "solidity": 0.2
            },
            "type": "scatter"
           }
          ],
          "scatter3d": [
           {
            "line": {
             "colorbar": {
              "outlinewidth": 0,
              "ticks": ""
             }
            },
            "marker": {
             "colorbar": {
              "outlinewidth": 0,
              "ticks": ""
             }
            },
            "type": "scatter3d"
           }
          ],
          "scattercarpet": [
           {
            "marker": {
             "colorbar": {
              "outlinewidth": 0,
              "ticks": ""
             }
            },
            "type": "scattercarpet"
           }
          ],
          "scattergeo": [
           {
            "marker": {
             "colorbar": {
              "outlinewidth": 0,
              "ticks": ""
             }
            },
            "type": "scattergeo"
           }
          ],
          "scattergl": [
           {
            "marker": {
             "colorbar": {
              "outlinewidth": 0,
              "ticks": ""
             }
            },
            "type": "scattergl"
           }
          ],
          "scattermapbox": [
           {
            "marker": {
             "colorbar": {
              "outlinewidth": 0,
              "ticks": ""
             }
            },
            "type": "scattermapbox"
           }
          ],
          "scatterpolar": [
           {
            "marker": {
             "colorbar": {
              "outlinewidth": 0,
              "ticks": ""
             }
            },
            "type": "scatterpolar"
           }
          ],
          "scatterpolargl": [
           {
            "marker": {
             "colorbar": {
              "outlinewidth": 0,
              "ticks": ""
             }
            },
            "type": "scatterpolargl"
           }
          ],
          "scatterternary": [
           {
            "marker": {
             "colorbar": {
              "outlinewidth": 0,
              "ticks": ""
             }
            },
            "type": "scatterternary"
           }
          ],
          "surface": [
           {
            "colorbar": {
             "outlinewidth": 0,
             "ticks": ""
            },
            "colorscale": [
             [
              0,
              "#0d0887"
             ],
             [
              0.1111111111111111,
              "#46039f"
             ],
             [
              0.2222222222222222,
              "#7201a8"
             ],
             [
              0.3333333333333333,
              "#9c179e"
             ],
             [
              0.4444444444444444,
              "#bd3786"
             ],
             [
              0.5555555555555556,
              "#d8576b"
             ],
             [
              0.6666666666666666,
              "#ed7953"
             ],
             [
              0.7777777777777778,
              "#fb9f3a"
             ],
             [
              0.8888888888888888,
              "#fdca26"
             ],
             [
              1,
              "#f0f921"
             ]
            ],
            "type": "surface"
           }
          ],
          "table": [
           {
            "cells": {
             "fill": {
              "color": "#EBF0F8"
             },
             "line": {
              "color": "white"
             }
            },
            "header": {
             "fill": {
              "color": "#C8D4E3"
             },
             "line": {
              "color": "white"
             }
            },
            "type": "table"
           }
          ]
         },
         "layout": {
          "annotationdefaults": {
           "arrowcolor": "#2a3f5f",
           "arrowhead": 0,
           "arrowwidth": 1
          },
          "autotypenumbers": "strict",
          "coloraxis": {
           "colorbar": {
            "outlinewidth": 0,
            "ticks": ""
           }
          },
          "colorscale": {
           "diverging": [
            [
             0,
             "#8e0152"
            ],
            [
             0.1,
             "#c51b7d"
            ],
            [
             0.2,
             "#de77ae"
            ],
            [
             0.3,
             "#f1b6da"
            ],
            [
             0.4,
             "#fde0ef"
            ],
            [
             0.5,
             "#f7f7f7"
            ],
            [
             0.6,
             "#e6f5d0"
            ],
            [
             0.7,
             "#b8e186"
            ],
            [
             0.8,
             "#7fbc41"
            ],
            [
             0.9,
             "#4d9221"
            ],
            [
             1,
             "#276419"
            ]
           ],
           "sequential": [
            [
             0,
             "#0d0887"
            ],
            [
             0.1111111111111111,
             "#46039f"
            ],
            [
             0.2222222222222222,
             "#7201a8"
            ],
            [
             0.3333333333333333,
             "#9c179e"
            ],
            [
             0.4444444444444444,
             "#bd3786"
            ],
            [
             0.5555555555555556,
             "#d8576b"
            ],
            [
             0.6666666666666666,
             "#ed7953"
            ],
            [
             0.7777777777777778,
             "#fb9f3a"
            ],
            [
             0.8888888888888888,
             "#fdca26"
            ],
            [
             1,
             "#f0f921"
            ]
           ],
           "sequentialminus": [
            [
             0,
             "#0d0887"
            ],
            [
             0.1111111111111111,
             "#46039f"
            ],
            [
             0.2222222222222222,
             "#7201a8"
            ],
            [
             0.3333333333333333,
             "#9c179e"
            ],
            [
             0.4444444444444444,
             "#bd3786"
            ],
            [
             0.5555555555555556,
             "#d8576b"
            ],
            [
             0.6666666666666666,
             "#ed7953"
            ],
            [
             0.7777777777777778,
             "#fb9f3a"
            ],
            [
             0.8888888888888888,
             "#fdca26"
            ],
            [
             1,
             "#f0f921"
            ]
           ]
          },
          "colorway": [
           "#636efa",
           "#EF553B",
           "#00cc96",
           "#ab63fa",
           "#FFA15A",
           "#19d3f3",
           "#FF6692",
           "#B6E880",
           "#FF97FF",
           "#FECB52"
          ],
          "font": {
           "color": "#2a3f5f"
          },
          "geo": {
           "bgcolor": "white",
           "lakecolor": "white",
           "landcolor": "#E5ECF6",
           "showlakes": true,
           "showland": true,
           "subunitcolor": "white"
          },
          "hoverlabel": {
           "align": "left"
          },
          "hovermode": "closest",
          "mapbox": {
           "style": "light"
          },
          "paper_bgcolor": "white",
          "plot_bgcolor": "#E5ECF6",
          "polar": {
           "angularaxis": {
            "gridcolor": "white",
            "linecolor": "white",
            "ticks": ""
           },
           "bgcolor": "#E5ECF6",
           "radialaxis": {
            "gridcolor": "white",
            "linecolor": "white",
            "ticks": ""
           }
          },
          "scene": {
           "xaxis": {
            "backgroundcolor": "#E5ECF6",
            "gridcolor": "white",
            "gridwidth": 2,
            "linecolor": "white",
            "showbackground": true,
            "ticks": "",
            "zerolinecolor": "white"
           },
           "yaxis": {
            "backgroundcolor": "#E5ECF6",
            "gridcolor": "white",
            "gridwidth": 2,
            "linecolor": "white",
            "showbackground": true,
            "ticks": "",
            "zerolinecolor": "white"
           },
           "zaxis": {
            "backgroundcolor": "#E5ECF6",
            "gridcolor": "white",
            "gridwidth": 2,
            "linecolor": "white",
            "showbackground": true,
            "ticks": "",
            "zerolinecolor": "white"
           }
          },
          "shapedefaults": {
           "line": {
            "color": "#2a3f5f"
           }
          },
          "ternary": {
           "aaxis": {
            "gridcolor": "white",
            "linecolor": "white",
            "ticks": ""
           },
           "baxis": {
            "gridcolor": "white",
            "linecolor": "white",
            "ticks": ""
           },
           "bgcolor": "#E5ECF6",
           "caxis": {
            "gridcolor": "white",
            "linecolor": "white",
            "ticks": ""
           }
          },
          "title": {
           "x": 0.05
          },
          "xaxis": {
           "automargin": true,
           "gridcolor": "white",
           "linecolor": "white",
           "ticks": "",
           "title": {
            "standoff": 15
           },
           "zerolinecolor": "white",
           "zerolinewidth": 2
          },
          "yaxis": {
           "automargin": true,
           "gridcolor": "white",
           "linecolor": "white",
           "ticks": "",
           "title": {
            "standoff": 15
           },
           "zerolinecolor": "white",
           "zerolinewidth": 2
          }
         }
        },
        "title": {
         "text": "PCA Component Contributions to Features"
        }
       }
      }
     },
     "metadata": {},
     "output_type": "display_data"
    }
   ],
   "source": [
    "import pandas as pd\n",
    "from sklearn.decomposition import PCA\n",
    "from matplotlib.sankey import Sankey\n",
    "import matplotlib.pyplot as plt\n",
    "components = pca.components_\n",
    "n_features = components.shape[1]\n",
    "n_components = components.shape[0]\n",
    "import plotly.graph_objects as go\n",
    "\n",
    "# Example PCA components for illustration\n",
    "pca_components_example = pca.components_\n",
    "\n",
    "# Define nodes (PCA components and original features)\n",
    "node_labels = ['PCA 1', 'PCA 2', 'PCA 3', 'fft_range_50', 'rel_pos_psd', 'coeffs_psd', 'rel_pos_trans']\n",
    "\n",
    "# Define links\n",
    "source_nodes = []\n",
    "target_nodes = []\n",
    "values = []\n",
    "\n",
    "for i in range(n_components):\n",
    "    for j in range(n_features):\n",
    "        source_nodes.append(i)\n",
    "        target_nodes.append(n_components + j)\n",
    "        values.append(abs(pca_components_example[i, j]))\n",
    "\n",
    "# Create the Sankey diagram\n",
    "fig = go.Figure(data=[go.Sankey(\n",
    "    node = dict(\n",
    "      pad = 15,\n",
    "      thickness = 20,\n",
    "      line = dict(color = \"black\", width = 0.5),\n",
    "      label = node_labels,\n",
    "    ),\n",
    "    link = dict(\n",
    "      source = source_nodes, \n",
    "      target = target_nodes,\n",
    "      value = values\n",
    "    ))])\n",
    "\n",
    "fig.update_layout(title_text=\"PCA Component Contributions to Features\", font_size=20)\n",
    "fig.show()\n",
    "\n"
   ]
  },
  {
   "cell_type": "markdown",
   "metadata": {},
   "source": [
    "### Base stream learner"
   ]
  },
  {
   "cell_type": "code",
   "execution_count": 169,
   "metadata": {},
   "outputs": [],
   "source": [
    "import copy\n",
    "class StreamLearning:\n",
    "    def __init__(self, h_data, d_data, clf, min_points_for_retraining = 3, reset_clf = False):\n",
    "        self.h_data = h_data # healthy state data\n",
    "        self.d_data = d_data # damage state data\n",
    "        self.clf = clf       # the OCC\n",
    "        self.ctr = 36        # current healthy instance (first health scenario is used for initialization of the model) \n",
    "        self.an_inst = []    # stores the indices of the anomalous instances\n",
    "        self.d_preds = []\n",
    "        self.h_preds = []\n",
    "        self.d_pred_proba = []\n",
    "        self.h_pred_proba = []\n",
    "        self.all_data = np.vstack((self.h_data, self.d_data))\n",
    "        self.val_scores = []\n",
    "        self.min_points_for_retraining = min_points_for_retraining\n",
    "        self.reset_clf = reset_clf # whether or not to reset classifier on anomaly detection\n",
    "        self.base_clf = copy.deepcopy(clf)\n",
    "\n",
    "    def support_include(self): # include into the support\n",
    "        self.clf.update(self.all_data[self.ctr])\n",
    "        self.ctr += 1\n",
    "\n",
    "    def is_cur_anomaly(self):\n",
    "        cur_inst = self.all_data[self.ctr]\n",
    "        self.h_pred_proba.append(self.clf.predict_proba(cur_inst)[0])\n",
    "        if self.clf.predict(cur_inst)[0] < 0:\n",
    "            # false positive found, add it to this list\n",
    "            self.an_inst.append(self.ctr)\n",
    "            # reset model only if reset set to true\n",
    "            if self.reset_clf:\n",
    "                self.retrain(self.ctr)\n",
    "\n",
    "    def retrain(self, anomaly_idx):\n",
    "        # when anomaly encountered retrain on last 36 points\n",
    "        self.clf = copy.deepcopy(self.base_clf)\n",
    "        # make sure to not sample across boundaries\n",
    "        scenario_of_anomaly_idx = int(anomaly_idx/36)\n",
    "        previous_scenario = scenario_of_anomaly_idx - 1\n",
    "        is_first_instance_in_scenario = int(anomaly_idx % 36) # is the anomalous instance, the first instance in its state?\n",
    "        current_or_previous_scenario =  previous_scenario if is_first_instance_in_scenario == 0 else scenario_of_anomaly_idx # if yes, use the previous scenario as we have not accumulated enough of the current scenario\n",
    "        # for the covariance matrix to be inverted inside predict of GaussianIncremental, we need at least three points\n",
    "        nbr_points = anomaly_idx - current_or_previous_scenario*36\n",
    "        # for cases where we need to initialize with at least self.min_points_for_training\n",
    "        for j in range(max(1, int(self.min_points_for_retraining / nbr_points))):\n",
    "            for i in range(current_or_previous_scenario*36, anomaly_idx):\n",
    "                self.clf.update(self.h_data[i])\n",
    "        remainder = self.min_points_for_retraining % nbr_points    \n",
    "        if (remainder) != 0:\n",
    "            #print(\"Adding more points to prevent singularity in OCC\")\n",
    "            for j in range(remainder):\n",
    "                self.clf.update(self.h_data[anomaly_idx - 1 - j]) # just add more of the last points\n",
    "\n",
    "    def final_evaluation(self):\n",
    "        # loop until anomaly is detected\n",
    "        p_score = self.clf.predict_proba(self.all_data[self.ctr])[0]\n",
    "        score = self.clf.predict(self.all_data[self.ctr])[0]\n",
    "        self.first_dam_idx = 0 # how many points do we need to wait until damage is detected (if 1st dam. index detected, it is 0)\n",
    "        while score > 0 and self.ctr < self.all_data.shape[0]:\n",
    "            self.h_pred_proba.append(p_score) \n",
    "            # line above implies that h_pred_proba is no longer simply of length h_data, \n",
    "            # but can be slightly longer depending on how long it takes for the clf to realize it is in the damage zone\n",
    "            self.support_include()\n",
    "            self.first_dam_idx = self.first_dam_idx + 1\n",
    "            p_score = self.clf.predict_proba(self.all_data[self.ctr])[0]\n",
    "            score = self.clf.predict(self.all_data[self.ctr])[0]\n",
    "\n",
    "        # compute preds (for final evaluation). Note: avoid using self.h_preds since it is done post-facto\n",
    "        self.d_preds = self.clf.predict(self.d_data[self.first_dam_idx:]) # since some of the damage may have been seen (i.e. included to the support), we don't consider them for test\n",
    "        self.h_preds = self.clf.predict(self.h_data)\n",
    "        self.d_pred_proba = self.clf.predict_proba(self.d_data[self.first_dam_idx:])\n",
    "\n",
    "    def cross_validate(self):\n",
    "        # call  loop with different cuts used for cross-validation\n",
    "        for i in range(1, 8): # we don't cross validate on first one\n",
    "            self.loop(i)\n",
    "\n",
    "    def init_clf(self):\n",
    "        # initialize \n",
    "        for i in range(36):\n",
    "            self.clf.update(self.h_data[i])\n",
    "\n",
    "    def loop(self, i = -1):\n",
    "        if i != -1:\n",
    "            cv_set_len = 36 # size of CV set\n",
    "            n_iters = self.h_data.shape[0] - self.ctr - cv_set_len\n",
    "            self.cv_set = self.h_data[i*36:(i+1)*36]\n",
    "            self.all_data = np.vstack((self.all_data[:i*36], self.all_data[(i+1)*36:])) \n",
    "        else:\n",
    "            n_iters = self.h_data.shape[0] - self.ctr\n",
    "            self.cv_set = None\n",
    "\n",
    "        # initialize the model\n",
    "        self.init_clf()\n",
    "        \n",
    "        # simulate data intake\n",
    "        for i in range(n_iters):\n",
    "            self.is_cur_anomaly()\n",
    "            self.support_include()\n",
    "        \n",
    "        # find validation score\n",
    "        if not(self.cv_set is None):\n",
    "            pred_val = np.array(self.clf.predict(self.cv_set)).reshape(-1, 1)\n",
    "            acc_val  = np.sum(pred_val > 0)/len(pred_val) \n",
    "            self.val_scores.append(acc_val)\n",
    "\n",
    "        # the final evaluation\n",
    "        self.final_evaluation()"
   ]
  },
  {
   "cell_type": "code",
   "execution_count": 64,
   "metadata": {},
   "outputs": [],
   "source": [
    "def print_metrics(sl: StreamLearning):\n",
    "    print(\"cor_d_preds\", np.sum(np.array(sl.d_preds) < 0), \"cor_h_preds (do not use)\", np.sum(np.array(sl.h_preds) > 0), \"d_pred_len\", len(sl.d_preds), \"h_pred_len\", len(sl.h_preds))\n",
    "    print(\"fp count\", len(sl.an_inst), \"first damage index\", sl.first_dam_idx)"
   ]
  },
  {
   "cell_type": "markdown",
   "metadata": {},
   "source": [
    "### Gaussian ellipsoid"
   ]
  },
  {
   "cell_type": "code",
   "execution_count": 82,
   "metadata": {},
   "outputs": [],
   "source": [
    "from scipy.spatial import distance\n",
    "from scipy.stats import chi2\n",
    "\n",
    "class IncrementalGaussianFitter:\n",
    "    def __init__(self):\n",
    "        self.mean = np.array([0.0, 0.0, 0.0])\n",
    "        self.covariance = np.eye(3)\n",
    "        self.count = 0\n",
    "\n",
    "    def update(self, new_point):\n",
    "        self.count += 1\n",
    "        old_mean = self.mean.copy()\n",
    "        self.mean += (new_point - self.mean) / self.count\n",
    "        self.covariance = ((self.count - 1) * self.covariance + \n",
    "                           np.outer(new_point - self.mean, new_point - self.mean)) / self.count\n",
    "\n",
    "    def get_mean(self):\n",
    "        return self.mean\n",
    "\n",
    "    def get_covariance(self):\n",
    "        return self.covariance\n",
    "    \n",
    "    def predict_proba(self, points):\n",
    "        if points.ndim == 1:\n",
    "            points = np.array([points])\n",
    "        confidence_level=0.95\n",
    "        threshold = chi2.ppf(confidence_level, df=3)  # df=3 for 3 dimensions\n",
    "        mahalanobis_distances = np.array([distance.mahalanobis(point, self.mean, np.linalg.inv(self.covariance)) \n",
    "                                          for point in points])\n",
    "        #print(self.covariance)\n",
    "        return (mahalanobis_distances ** 2) - threshold # the higher the more likely an anomaly\n",
    "    \n",
    "    # unlike predict_proba, negative corresponds to an anomaly, positive to an inlier\n",
    "    def predict(self, points):\n",
    "        if points.ndim == 1:\n",
    "            points = np.array([points])\n",
    "        confidence_level=0.95\n",
    "        threshold = chi2.ppf(confidence_level, df=3)  # df=3 for 3 dimensions\n",
    "        mahalanobis_distances = np.array([distance.mahalanobis(point, self.mean, np.linalg.inv(self.covariance)) \n",
    "                                          for point in points])\n",
    "        result = mahalanobis_distances ** 2 <= threshold\n",
    "        result = [2*int(el) - 1  for el in result]\n",
    "        return result"
   ]
  },
  {
   "cell_type": "code",
   "execution_count": 170,
   "metadata": {},
   "outputs": [
    {
     "data": {
      "text/plain": [
       "0.9246031746031746"
      ]
     },
     "execution_count": 170,
     "metadata": {},
     "output_type": "execute_result"
    }
   ],
   "source": [
    "# only get the CV score, not params in this case \n",
    "slg = StreamLearning(healthy_data_top, damage_data_top, IncrementalGaussianFitter())\n",
    "slg.cross_validate()\n",
    "np.mean(slg.val_scores) # score: 0.8"
   ]
  },
  {
   "cell_type": "code",
   "execution_count": 171,
   "metadata": {},
   "outputs": [
    {
     "name": "stdout",
     "output_type": "stream",
     "text": [
      "cor_d_preds 286 cor_h_preds (do not use) 259 d_pred_len 324 h_pred_len 288\n",
      "fp count 27 first damage index 0\n"
     ]
    }
   ],
   "source": [
    "# now, without CV and WITHOUT RETRAIN ON ANOMALY, get the performance metrics\n",
    "slg = StreamLearning(healthy_data_top, damage_data_top, IncrementalGaussianFitter())\n",
    "slg.loop()\n",
    "print_metrics(slg)"
   ]
  },
  {
   "cell_type": "code",
   "execution_count": 172,
   "metadata": {},
   "outputs": [
    {
     "name": "stdout",
     "output_type": "stream",
     "text": [
      "cor_d_preds 296 cor_h_preds (do not use) 238 d_pred_len 324 h_pred_len 288\n",
      "fp count 58 first damage index 0\n"
     ]
    },
    {
     "name": "stderr",
     "output_type": "stream",
     "text": [
      "c:\\Users\\amroa\\AppData\\Local\\Programs\\Python\\Python311\\Lib\\site-packages\\scipy\\spatial\\distance.py:1023: RuntimeWarning: invalid value encountered in sqrt\n",
      "  return np.sqrt(m)\n"
     ]
    }
   ],
   "source": [
    "# train without cross validation and WITH RETRAIN ON ANOMALY\n",
    "slg_reset = StreamLearning(healthy_data_top, damage_data_top, IncrementalGaussianFitter(), reset_clf=True)\n",
    "slg_reset.loop()\n",
    "print_metrics(slg_reset)"
   ]
  },
  {
   "cell_type": "code",
   "execution_count": 49,
   "metadata": {},
   "outputs": [],
   "source": [
    "import matplotlib\n",
    "matplotlib.use('Qt5Agg')\n",
    "import matplotlib.pyplot as plt\n",
    "plt.ion()  # Turn on interactive mode\n",
    "\n",
    "eigenvalues, eigenvectors = np.linalg.eig(slg.clf.covariance)\n",
    "\n",
    "# Create a grid for the ellipsoid\n",
    "u = np.linspace(0, 2 * np.pi, 100)\n",
    "v = np.linspace(0, np.pi, 100)\n",
    "y = 2*np.sqrt(eigenvalues[0])*np.outer(np.cos(u), np.sin(v)) # two standard deviation to cover 95% of the confidence \n",
    "x = 2*np.sqrt(eigenvalues[1])*np.outer(np.sin(u), np.sin(v))\n",
    "z = 2*np.sqrt(eigenvalues[2])*np.outer(np.ones(np.size(u)), np.cos(v))\n",
    "\n",
    "# Scale each point by the square root of the corresponding eigenvalue (standard deviation)\n",
    "for i in range(len(x)):\n",
    "    for j in range(len(x)):\n",
    "        [x[i, j], y[i, j], z[i, j]] = np.dot([x[i, j], y[i, j], z[i, j]], eigenvectors) + slg.clf.mean\n",
    "\n",
    "# Create a 3D plot\n",
    "fig = plt.figure()\n",
    "\n",
    "\n",
    "ax = fig.add_subplot(111, projection='3d')\n",
    "ax.axis('auto')\n",
    "\n",
    "# Plot the original points\n",
    "ax.scatter(healthy_data_top[:, 0], healthy_data_top[:, 1], healthy_data_top[:, 2], color='blue', marker='o')\n",
    "ax.scatter(damage_data_top[:, 0], damage_data_top[:, 1], damage_data_top[:, 2], color='red', marker='o')\n",
    "ax.set_xlim((-4, 1))\n",
    "ax.set_ylim((-1, 6))\n",
    "ax.set_zlim((-5, 3))\n",
    "\n",
    "# Plot the ellipsoid\n",
    "ax.plot_surface(x, y, z, color='orange', alpha=0.5)\n",
    "\n",
    "# Plot principal axes as line segments\n",
    "for i in range(3):\n",
    "    axis_start = np.zeros(3) + slg.clf.mean\n",
    "    axis_end =  eigenvectors[:, i] * np.sqrt(eigenvalues[i])*2 + slg.clf.mean  # Scale factor for visibility\n",
    "    ax.plot([axis_start[0], axis_end[0]], [axis_start[1], axis_end[1]], [axis_start[2], axis_end[2]], color='green', linewidth=2)\n",
    "\n",
    "ax.set_xlabel('PC 1')\n",
    "ax.set_ylabel('PC 2')\n",
    "ax.set_zlabel('PC 3')\n",
    "\n",
    "# save pc1pc2slg, pc2pc3slg, pc1pc3slg\n",
    "plt.show()"
   ]
  },
  {
   "cell_type": "code",
   "execution_count": 57,
   "metadata": {},
   "outputs": [],
   "source": [
    "import seaborn as sns\n",
    "%matplotlib inline\n",
    "def plot_anom(sl :StreamLearning, title):\n",
    "    sns.reset_defaults()\n",
    "    sns.reset_orig()\n",
    "\n",
    "    plt.figure(figsize=(15, 6))\n",
    "    nbr_epochs = healthy_data_top.shape[0] - 36 + damage_data_top.shape[0]\n",
    "    print(nbr_epochs)\n",
    "\n",
    "    an_scores = np.hstack((sl.h_pred_proba, sl.d_pred_proba)).reshape(-1, 1)\n",
    "    print(len(range(0, nbr_epochs+1, 36)))\n",
    "    for i in range(0, nbr_epochs+1, 36):\n",
    "        plt.axvline(x=i, color='red', linestyle='--', linewidth=0.8)\n",
    "\n",
    "    # scale and plot the bars\n",
    "    sc = StandardScaler()\n",
    "    obs = np.arange(len(an_scores))\n",
    "    std_entropies = sc.fit_transform(an_scores).flatten()\n",
    "    \n",
    "    plt.axvspan(36*7, 36*16, color='yellow', alpha=0.08)\n",
    "    plt.bar(obs, std_entropies)\n",
    "    plt.ylim(0, 1.15*max(std_entropies))\n",
    "\n",
    "    plt.xlabel('Epoch (16,384 samples or 2.7 min per epoch)')\n",
    "    plt.ylabel('Standardized anomaly score')\n",
    "    plt.title(title)\n",
    "    text_pos = [i+18 for i in range(0, nbr_epochs, 36)]\n",
    "    \n",
    "    # print title for each state\n",
    "    for idx, pos in enumerate(text_pos):\n",
    "        str_capt =  f'DS {idx+2}'\n",
    "        plt.text(pos, max(std_entropies)*1.1, str_capt, ha='center', color='red')\n",
    "\n",
    "    plt.show()"
   ]
  },
  {
   "cell_type": "code",
   "execution_count": 173,
   "metadata": {},
   "outputs": [],
   "source": [
    "def plot_colored_prog(sl: StreamLearning, title: str):\n",
    "    # standardize anomaly scores of the healthy \n",
    "    sch = StandardScaler()\n",
    "    std_hscores = sch.fit_transform(np.array(sl.h_pred_proba).reshape(-1, 1)).flatten()\n",
    "\n",
    "    # and the damage data\n",
    "    scd = StandardScaler()\n",
    "    std_dscores = scd.fit_transform(np.array(sl.d_pred_proba).reshape(-1, 1)).flatten()\n",
    "\n",
    "    # Normalize the scores to [0, 1] for color mapping\n",
    "    norm = MinMaxScaler()\n",
    "    norm_hscores = norm.fit_transform(std_hscores.reshape(-1, 1)).flatten()\n",
    "    norm_dscores = norm.fit_transform(std_dscores.reshape(-1, 1)).flatten()\n",
    "\n",
    "    # Get colors for them based on normalized scores\n",
    "    reds = sns.color_palette(\"Reds\", n_colors=10)\n",
    "    blues = sns.color_palette(\"Blues\", n_colors=10)\n",
    "    \n",
    "    # Map scores to colors\n",
    "    h_colors = [blues[int(score * 9)] for score in norm_hscores]\n",
    "    d_colors = [reds[int(score * 9)] for score in norm_dscores]\n",
    "\n",
    "    # Combine the colors for plotting\n",
    "    colors = np.array(h_colors + d_colors)\n",
    "    fig, ax = plt.subplots(figsize=(15, 6))\n",
    "\n",
    "    # Setting the bar width to fully cover the plot area\n",
    "    values = np.ones(len(np.hstack((std_hscores, std_dscores))))\n",
    "    bar_width = 1.0 / len(values) * len(values)\n",
    "    fp_idx = np.array(sl.an_inst).astype(int) - 36\n",
    "    fn_idx = np.where(np.array(sl.d_preds) > 0)[0] + sl.first_dam_idx + sl.h_data.shape[0]\n",
    "    n_ep = len(colors)\n",
    "\n",
    "    # Scenario boundaries\n",
    "    for i in range(0, n_ep+1, 36):\n",
    "        plt.axvline(x=i, color='gray', alpha = 0.5, linestyle=':', linewidth=1.1, ymax = 0.95)\n",
    "\n",
    "    # Plotting each bar with the new width\n",
    "    for i in range(len(values)):\n",
    "        ax.bar(i, values[i], color=colors[i], width=bar_width, align='edge')\n",
    "        # Adding a vertical dashed line through the center of each bar incorrectly classified\n",
    "        if i in fp_idx or i in fn_idx:\n",
    "            center_of_bar = i + bar_width / 2\n",
    "            ax.axvline(center_of_bar, color='green', alpha = 0.8, linestyle='-', linewidth=1, ymin=0.40, ymax=0.60)\n",
    "\n",
    "    # Add scenario labels\n",
    "    text_pos = [i+18 for i in range(0, n_ep, 36)]\n",
    "    for idx, pos in enumerate(text_pos):\n",
    "        str_capt =  f'State {idx+2}'\n",
    "        plt.text(pos, -0.05, str_capt, ha='center', color='gray')\n",
    "\n",
    "    # Removing x-ticks as bars will cover the entire x-axis\n",
    "    ax.set_xticks([])\n",
    "    ax.axis('off')\n",
    "\n",
    "    # Additional plot formatting\n",
    "    plt.xlabel(\"3D Instance\")\n",
    "    plt.ylabel(\"\")\n",
    "    plt.title(title)\n",
    "    plt.show()\n",
    "    "
   ]
  },
  {
   "cell_type": "code",
   "execution_count": 174,
   "metadata": {},
   "outputs": [
    {
     "data": {
      "image/png": "[encoded data removed]",
      "text/plain": [
       "<Figure size 1500x600 with 1 Axes>"
      ]
     },
     "metadata": {},
     "output_type": "display_data"
    }
   ],
   "source": [
    "plot_colored_prog(slg, \"Gaussian Elliptic Envelope\")"
   ]
  },
  {
   "cell_type": "code",
   "execution_count": 52,
   "metadata": {},
   "outputs": [
    {
     "name": "stdout",
     "output_type": "stream",
     "text": [
      "576\n",
      "17\n"
     ]
    },
    {
     "data": {
      "image/png": "[encoded data removed]",
      "text/plain": [
       "<Figure size 1500x600 with 1 Axes>"
      ]
     },
     "metadata": {},
     "output_type": "display_data"
    }
   ],
   "source": [
    "plot_anom(slg, \"Incremental Gaussian Envelope Anomaly Scores\")"
   ]
  },
  {
   "cell_type": "markdown",
   "metadata": {},
   "source": [
    "### Online one class SVM"
   ]
  },
  {
   "cell_type": "code",
   "execution_count": 60,
   "metadata": {},
   "outputs": [
    {
     "data": {
      "text/plain": [
       "((288, 3), (324, 3))"
      ]
     },
     "execution_count": 60,
     "metadata": {},
     "output_type": "execute_result"
    }
   ],
   "source": [
    "healthy_data_top.shape, damage_data_top.shape"
   ]
  },
  {
   "cell_type": "code",
   "execution_count": 20,
   "metadata": {},
   "outputs": [],
   "source": [
    "from sklearn.svm import OneClassSVM\n",
    "from scipy.special import expit \n",
    "\n",
    "class IncrementalOneClassSVM:\n",
    "    def __init__(self, buffer_size = 36, nu = 0.1, retrain_size=20):\n",
    "        self.model = OneClassSVM(nu = nu, kernel='rbf')\n",
    "        self.buffer_size = buffer_size\n",
    "        self.retrain_size = retrain_size\n",
    "        self.data_buffer = []\n",
    "        self.support_vectors = None\n",
    "        self.ctr = 0\n",
    "        self.init_start = []\n",
    "        np.random.seed(4)\n",
    "\n",
    "    def initial_train(self, data):\n",
    "        self.model.fit(data)\n",
    "        self.support_vectors = self.model.support_vectors_\n",
    "\n",
    "    def _buffer_data(self, new_data):\n",
    "        self.data_buffer.extend(new_data)\n",
    "        if self.ctr < 36:\n",
    "            self.init_start.append(np.array(new_data).flatten())\n",
    "            if self.ctr == 35:\n",
    "                self.model.fit(np.array(self.init_start))\n",
    "                self.support_vectors = self.model.support_vectors_\n",
    "\n",
    "        elif len(self.data_buffer) > self.buffer_size:\n",
    "            self._update_model()\n",
    "\n",
    "    def _update_model(self):\n",
    "        new_data = np.array(self.data_buffer)\n",
    "        self.data_buffer = []\n",
    "\n",
    "        # Filtering new data - select data significantly different from current support vectors\n",
    "        # This is a simple distance-based filter for demonstration purposes\n",
    "        distance = np.min(np.linalg.norm(new_data[:, np.newaxis] - self.support_vectors, axis=2), axis=1)\n",
    "        significant_new_data = new_data[distance > np.percentile(distance, 50)]\n",
    "\n",
    "        if len(significant_new_data) > 0:\n",
    "            #combined_data = np.vstack([self.support_vectors, significant_new_data])\n",
    "            #print(f\"Orig. nbr of support vectors of {self.support_vectors.shape[0]}\")\n",
    "            support_vector_entries = min(int(0.50 * self.retrain_size), self.support_vectors.shape[0])  # 20% from support vectors\n",
    "            #print(f\"Sampled nbr of support vectors {support_vector_entries}\") # show number of support vectors (usually around 10)\n",
    "            new_data_entries = self.retrain_size - support_vector_entries  # remaining 80% from new data\n",
    "\n",
    "            # Selecting entries\n",
    "            selected_support_vectors = np.random.choice(self.support_vectors.shape[0], support_vector_entries, replace=False)\n",
    "            selected_new_data = np.random.choice(significant_new_data.shape[0], min(new_data_entries, significant_new_data.shape[0]), replace=False)\n",
    "\n",
    "            # Retrain model with a subset of the data\n",
    "            subset_for_retraining = np.vstack([self.support_vectors[selected_support_vectors], significant_new_data[selected_new_data]])\n",
    "\n",
    "            self.model.fit(subset_for_retraining)\n",
    "            self.support_vectors = self.model.support_vectors_\n",
    "\n",
    "    def update(self, new_data):\n",
    "        \"\"\"\n",
    "        Add new data for training. This can be a single data point or multiple data points in a batch.\n",
    "        \"\"\"\n",
    "        if isinstance(new_data, list) or len(new_data.shape) > 1:\n",
    "            self._buffer_data(new_data)\n",
    "        else:\n",
    "            self._buffer_data([new_data]) \n",
    "        self.ctr += 1\n",
    "\n",
    "    def predict(self, data):\n",
    "        \"\"\"\n",
    "        Predict using the One-Class SVM model. \n",
    "        \"\"\"\n",
    "        if data.ndim == 1:\n",
    "            data = np.array([data])\n",
    "        return self.model.predict(data)\n",
    "    \n",
    "    def decision_function(self, data):\n",
    "        \"\"\"\n",
    "        Pseudo-probabilistic predict using the One-Class SVM model. \n",
    "        \"\"\"\n",
    "        if data.ndim == 1:\n",
    "            data = np.array([data])\n",
    "        decision_function = self.model.decision_function(data)\n",
    "        return decision_function\n",
    "    \n",
    "    def predict_proba(self, data):\n",
    "        \"\"\"\n",
    "        Pseudo-probabilistic predict using the One-Class SVM model. \n",
    "        \"\"\"\n",
    "        if data.ndim == 1:\n",
    "            data = np.array([data])\n",
    "        decision_function = self.model.decision_function(data)\n",
    "        return 1-expit(decision_function)"
   ]
  },
  {
   "cell_type": "code",
   "execution_count": 21,
   "metadata": {},
   "outputs": [],
   "source": [
    "param_grid_occsvm = {\n",
    "    'nu': [0.1, 0.2, 0.4, 0.75],\n",
    "    'buffer_size': [18, 36, 72],\n",
    "    'retrain_size': [10, 20, 40]\n",
    "}"
   ]
  },
  {
   "cell_type": "code",
   "execution_count": 22,
   "metadata": {},
   "outputs": [],
   "source": [
    "max_score = -10\n",
    "memorize_params = {}\n",
    "for nu in param_grid_occsvm['nu']:\n",
    "    for buf_size in param_grid_occsvm['buffer_size']:\n",
    "        for ret_size in param_grid_occsvm['retrain_size']:\n",
    "            slsvc = StreamLearning(healthy_data_top, damage_data_top, IncrementalOneClassSVM(buffer_size=buf_size, nu = nu, retrain_size=ret_size))\n",
    "            slsvc.cross_validate()\n",
    "            avg_score = np.mean(slsvc.val_scores)\n",
    "            if max_score < avg_score:\n",
    "                max_score = avg_score\n",
    "                memorize_params = {'nu': nu, 'buffer_size': buf_size, 'retrain_size': ret_size}"
   ]
  },
  {
   "cell_type": "code",
   "execution_count": 23,
   "metadata": {},
   "outputs": [
    {
     "data": {
      "text/plain": [
       "(0.9444444444444444, {'nu': 0.1, 'buffer_size': 18, 'retrain_size': 20})"
      ]
     },
     "execution_count": 23,
     "metadata": {},
     "output_type": "execute_result"
    }
   ],
   "source": [
    "max_score, memorize_params"
   ]
  },
  {
   "cell_type": "code",
   "execution_count": 24,
   "metadata": {},
   "outputs": [
    {
     "name": "stdout",
     "output_type": "stream",
     "text": [
      "cor_d_preds 262 cor_h_preds (do not use) 273 d_pred_len 322 h_pred_len 288\n",
      "fp count 39 first damage index 2\n"
     ]
    }
   ],
   "source": [
    "slsvc = StreamLearning(healthy_data_top, damage_data_top, IncrementalOneClassSVM(**memorize_params), min_points_for_retraining=36, reset_clf=False)\n",
    "slsvc.loop()\n",
    "print_metrics(slsvc)"
   ]
  },
  {
   "cell_type": "code",
   "execution_count": 28,
   "metadata": {},
   "outputs": [
    {
     "name": "stdout",
     "output_type": "stream",
     "text": [
      "cor_d_preds 308 cor_h_preds (do not use) 231 d_pred_len 324 h_pred_len 288\n",
      "fp count 76 first damage index 0\n"
     ]
    }
   ],
   "source": [
    "slsvc_reset = StreamLearning(healthy_data_top, damage_data_top, IncrementalOneClassSVM(**memorize_params), min_points_for_retraining=36, reset_clf=True)\n",
    "slsvc_reset.loop()\n",
    "print_metrics(slsvc_reset)"
   ]
  },
  {
   "cell_type": "code",
   "execution_count": 96,
   "metadata": {},
   "outputs": [
    {
     "name": "stdout",
     "output_type": "stream",
     "text": [
      "576\n",
      "17\n"
     ]
    },
    {
     "data": {
      "image/png": "[encoded data removed]",
      "text/plain": [
       "<Figure size 1500x600 with 1 Axes>"
      ]
     },
     "metadata": {},
     "output_type": "display_data"
    }
   ],
   "source": [
    "plot_anom(slsvc, \"Incremental OCC-SVC Anomaly Scores\")"
   ]
  },
  {
   "cell_type": "code",
   "execution_count": 25,
   "metadata": {},
   "outputs": [],
   "source": [
    "def plot_decision_boundary(model, X_train, y_train):\n",
    "    x = np.linspace(X_train[:,0].min()-1, X_train[:,0].max()+1, 50)\n",
    "    y = np.linspace(X_train[:,1].min()-1, X_train[:,1].max()+1, 50)\n",
    "    z = np.linspace(X_train[:,2].min()-1, X_train[:,2].max()+1, 50)\n",
    "    xx, yy, zz = np.meshgrid(x, y, z)\n",
    "    grid = np.c_[xx.ravel(), yy.ravel(), zz.ravel()]\n",
    "\n",
    "    # Evaluate the model's decision function\n",
    "    decision_values = model.decision_function(grid)\n",
    "    decision_signs = np.sign(decision_values).reshape(xx.shape)\n",
    "\n",
    "    # Check for sign changes along each axis\n",
    "    diff_x = np.diff(decision_signs, axis=0)\n",
    "    diff_y = np.diff(decision_signs, axis=1)\n",
    "    diff_z = np.diff(decision_signs, axis=2)\n",
    "\n",
    "    # Combine the differences to locate boundary points\n",
    "    boundary_mask = np.zeros_like(decision_signs, dtype=bool)\n",
    "    boundary_mask[:-1,:,:] |= diff_x != 0\n",
    "    boundary_mask[:,:-1,:] |= diff_y != 0\n",
    "    boundary_mask[:,:,:-1] |= diff_z != 0\n",
    "\n",
    "    boundary_points = grid[boundary_mask.ravel()]\n",
    "\n",
    "    # Visualize the decision boundary\n",
    "    fig = plt.figure()\n",
    "    ax = fig.add_subplot(111, projection='3d')\n",
    "\n",
    "    # Plot the boundary points\n",
    "    ax.scatter(boundary_points[:, 0], boundary_points[:, 1], boundary_points[:, 2], color='orange', s=8, alpha=0.5)\n",
    "    ax.set_xlim((-4, 1))\n",
    "    ax.set_ylim((-1, 6))\n",
    "    ax.set_zlim((-5, 3))\n",
    "    #ax.plot_surface(boundary_points[:, 0], boundary_points[:, 1], boundary_points[:, 2], color='orange', alpha=0.5)\n",
    "\n",
    "    # Plot the training points\n",
    "    ax.scatter(X_train[:, 0], X_train[:, 1], X_train[:, 2], c=y_train, cmap=plt.cm.coolwarm, s=50)\n",
    "\n",
    "    ax.set_xlabel('PC 1')\n",
    "    ax.set_ylabel('PC 2')\n",
    "    ax.set_zlabel('PC 3')\n",
    "    plt.title(\"3D Decision Boundary of OCC-SVC\")\n",
    "    plt.show()"
   ]
  },
  {
   "cell_type": "code",
   "execution_count": null,
   "metadata": {},
   "outputs": [],
   "source": [
    "import matplotlib\n",
    "matplotlib.use('Qt5Agg') \n",
    "plot_decision_boundary(slsvc.clf, np.vstack((healthy_data_top, damage_data_top)), np.hstack((np.full(healthy_data_top.shape[0], 0), np.full(damage_data_top.shape[0], 1))))\n",
    "# this \"useless\" while loop is necessary since otherwise the next cell acquires an execution lock and this cell is marked as computed even if the plot does not appear on screen\n",
    "# (seems to be a concurrency related problem)\n",
    "i = 0\n",
    "while True:\n",
    "    i = i + 1\n",
    "    i = i - 1"
   ]
  },
  {
   "cell_type": "markdown",
   "metadata": {},
   "source": [
    "### Half space trees"
   ]
  },
  {
   "cell_type": "code",
   "execution_count": 24,
   "metadata": {},
   "outputs": [],
   "source": [
    "from river import compose\n",
    "from river import datasets\n",
    "from river import metrics\n",
    "from river import preprocessing\n",
    "\n",
    "class IncrementalHalfSpace():\n",
    "    def __init__(self, h_len, size = 36, n_trees = 70, height  = 3):\n",
    "        self.hst = compose.Pipeline(preprocessing.MinMaxScaler(), \n",
    "                                    anomaly.HalfSpaceTrees(n_trees=n_trees, height=height, window_size=size, seed=42))\n",
    "        self.ctr = 0\n",
    "        self.an_sc = [] # anomaly scores \n",
    "        self.h_len = h_len # number of healthy data points to expect \n",
    "\n",
    "    def update(self, data):\n",
    "        data = {f'x_{i}': val  for i, val in enumerate(data)}\n",
    "        self.ctr += 1\n",
    "        self.hst = self.hst.learn_one(data)\n",
    "\n",
    "    def predict_proba(self, data):\n",
    "        if data.ndim == 1:\n",
    "            data = {f'x_{i}': val  for i, val in enumerate(data)}\n",
    "            sc = self.hst.score_one(data)\n",
    "            if self.ctr < self.h_len:\n",
    "                self.an_sc.append(sc) # to find if an anomaly is in fact anomalous, we must have a (running) distribution of anomalies\n",
    "            if len(self.an_sc)> 1:\n",
    "                return [(sc - np.mean(self.an_sc))/np.std(self.an_sc)]\n",
    "            else: \n",
    "                return [sc] \n",
    "        else:\n",
    "            scores = []\n",
    "            for el in data:\n",
    "                inst = {f'x_{i}': val  for i, val in enumerate(el)}\n",
    "                scores.append((self.hst.score_one(inst) - np.mean(self.an_sc))/np.std(self.an_sc)) \n",
    "            return scores\n",
    "        \n",
    "    def decision_function(self, data):\n",
    "        return (self.predict_proba(data) - np.mean(self.an_sc))/np.std(self.an_sc)\n",
    "        \n",
    "    def predict(self, data):\n",
    "        if data.ndim == 1:\n",
    "            data = {f'x_{i}': val  for i, val in enumerate(data)}\n",
    "            sc = self.hst.score_one(data)\n",
    "            if 2*np.std(self.an_sc) < np.abs(sc - np.mean(self.an_sc)):\n",
    "                return [-1]\n",
    "            else:\n",
    "                return [1]\n",
    "        else:\n",
    "            scores = []\n",
    "            mu = np.mean(self.an_sc)\n",
    "            sigma = np.std(self.an_sc)\n",
    "            for el in data:\n",
    "                inst = {f'x_{i}': val for i, val in enumerate(el)}\n",
    "                sc = self.hst.score_one(inst)\n",
    "                if sigma < np.abs(sc - mu):\n",
    "                    scores.append(-1)\n",
    "                else:\n",
    "                    scores.append(1)\n",
    "            return scores"
   ]
  },
  {
   "cell_type": "code",
   "execution_count": 25,
   "metadata": {},
   "outputs": [],
   "source": [
    "param_grid_half = {\n",
    "    'size': [9, 18, 36],\n",
    "    'height': [3, 4],\n",
    "    'n_trees': [10, 20, 30, 40, 50, 60, 70]\n",
    "}"
   ]
  },
  {
   "cell_type": "code",
   "execution_count": 24,
   "metadata": {},
   "outputs": [],
   "source": [
    "max_score = -10\n",
    "memorize_params_half = {}\n",
    "for size in param_grid_half['size']:\n",
    "    for height in param_grid_half['height']:\n",
    "        for n_trees in param_grid_half['n_trees']:\n",
    "            slhst = StreamLearning(healthy_data_top, damage_data_top, IncrementalHalfSpace(healthy_data_top.shape[0], size = size, n_trees= n_trees, height=height), min_points_for_retraining=size)\n",
    "            slhst.cross_validate()\n",
    "            avg_score = np.mean(slhst.val_scores)\n",
    "            if max_score < avg_score:\n",
    "                max_score = avg_score\n",
    "                memorize_params_half = {'size': size, 'height': height, 'n_trees': n_trees}"
   ]
  },
  {
   "cell_type": "code",
   "execution_count": 30,
   "metadata": {},
   "outputs": [
    {
     "data": {
      "text/plain": [
       "({'size': 36, 'height': 3, 'n_trees': 10}, 0.9087301587301587)"
      ]
     },
     "execution_count": 30,
     "metadata": {},
     "output_type": "execute_result"
    }
   ],
   "source": [
    "memorize_params_half, max_score"
   ]
  },
  {
   "cell_type": "code",
   "execution_count": 26,
   "metadata": {},
   "outputs": [
    {
     "name": "stdout",
     "output_type": "stream",
     "text": [
      "cor_d_preds 288 cor_h_preds (do not use) 247 d_pred_len 315 h_pred_len 288\n",
      "fp count 16 first damage index 9\n"
     ]
    }
   ],
   "source": [
    "slhs = StreamLearning(healthy_data_top, damage_data_top,  IncrementalHalfSpace(h_len = healthy_data_top.shape[0], size = 36, height=3, n_trees=10), min_points_for_retraining=18)\n",
    "slhs.loop()\n",
    "print_metrics(slhs)"
   ]
  },
  {
   "cell_type": "code",
   "execution_count": 46,
   "metadata": {},
   "outputs": [
    {
     "name": "stdout",
     "output_type": "stream",
     "text": [
      "cor_d_preds 280 cor_h_preds (do not use) 174 d_pred_len 322 h_pred_len 288\n",
      "fp count 10 first damage index 2\n"
     ]
    },
    {
     "name": "stderr",
     "output_type": "stream",
     "text": [
      "C:\\Users\\amroa\\AppData\\Local\\Temp\\ipykernel_23952\\2591559262.py:26: RuntimeWarning: invalid value encountered in scalar divide\n",
      "  return [(sc - np.mean(self.an_sc))/np.std(self.an_sc)]\n"
     ]
    }
   ],
   "source": [
    "slhs = StreamLearning(healthy_data_top, damage_data_top, IncrementalHalfSpace(h_len = healthy_data_top.shape[0], **memorize_params_half), min_points_for_retraining=18, reset_clf=True)\n",
    "slhs.loop()\n",
    "print_metrics(slhs)"
   ]
  },
  {
   "cell_type": "code",
   "execution_count": 50,
   "metadata": {},
   "outputs": [
    {
     "name": "stdout",
     "output_type": "stream",
     "text": [
      "576\n",
      "17\n"
     ]
    },
    {
     "data": {
      "image/png": "[encoded data removed]",
      "text/plain": [
       "<Figure size 1500x600 with 1 Axes>"
      ]
     },
     "metadata": {},
     "output_type": "display_data"
    }
   ],
   "source": [
    "%matplotlib inline\n",
    "plot_anom(slhs, \"Incremental Half-Space Tree Anomaly Scores\")"
   ]
  },
  {
   "cell_type": "code",
   "execution_count": null,
   "metadata": {},
   "outputs": [],
   "source": [
    "import matplotlib\n",
    "matplotlib.use('Qt5Agg') \n",
    "plot_decision_boundary(slhs.clf, np.vstack((healthy_data_top, damage_data_top)), np.hstack((np.full(healthy_data_top.shape[0], 0), np.full(damage_data_top.shape[0], 1))))"
   ]
  },
  {
   "cell_type": "markdown",
   "metadata": {},
   "source": [
    "###  (Naive) Local outlier factor"
   ]
  },
  {
   "cell_type": "code",
   "execution_count": 38,
   "metadata": {},
   "outputs": [],
   "source": [
    "from sklearn.neighbors import LocalOutlierFactor\n",
    "\n",
    "class IncrementalLOF(): \n",
    "    def __init__(self, n_neighbors, max_size = 36):\n",
    "        self.queue = []\n",
    "        self.max_size = max_size # maximum size of the queue\n",
    "        self.lof = LocalOutlierFactor(n_neighbors=n_neighbors, novelty=True)\n",
    "\n",
    "    def update(self, new_point):\n",
    "        self.queue.append(new_point)\n",
    "        if len(self.queue) == self.max_size:\n",
    "            self.lof.fit(self.queue)\n",
    "            self.queue.pop(0)\n",
    "        elif len(self.queue) > self.max_size:\n",
    "            self.queue.pop(0)\n",
    "    \n",
    "    def predict_proba(self, points):\n",
    "        if points.ndim == 1:\n",
    "            points = np.array([points])\n",
    "        return -self.lof.decision_function(points)\n",
    "    \n",
    "    def decision_function(self, points):\n",
    "        return self.predict_proba(points)\n",
    "    \n",
    "    # unlike predict_proba, negative corresponds to an anomaly, positive to an inlier\n",
    "    def predict(self, points):\n",
    "        if points.ndim == 1:\n",
    "            points = np.array([points])\n",
    "        return self.lof.predict(points)"
   ]
  },
  {
   "cell_type": "code",
   "execution_count": 29,
   "metadata": {},
   "outputs": [],
   "source": [
    "param_grid_lof_naive = {\n",
    "    'max_size': [9, 18, 36],\n",
    "    'n_neighbors': [3, 6, 12, 24] # must be smaller than max size\n",
    "}"
   ]
  },
  {
   "cell_type": "code",
   "execution_count": 30,
   "metadata": {},
   "outputs": [],
   "source": [
    "max_score = -10\n",
    "param_grid_naive_lof = {}\n",
    "for size in param_grid_lof_naive['max_size']:\n",
    "    for neighbors in param_grid_lof_naive['n_neighbors']:\n",
    "            if neighbors >= size:\n",
    "                 continue\n",
    "            slof = StreamLearning(healthy_data_top, damage_data_top, IncrementalLOF(n_neighbors=neighbors, max_size=size) , min_points_for_retraining=size)\n",
    "            slof.cross_validate()\n",
    "            avg_score = np.mean(slof.val_scores)\n",
    "            if max_score < avg_score:\n",
    "                max_score = avg_score\n",
    "                memorize_params_lof = {'max_size': size, 'n_neighbors': neighbors}"
   ]
  },
  {
   "cell_type": "code",
   "execution_count": 31,
   "metadata": {},
   "outputs": [
    {
     "data": {
      "text/plain": [
       "(0.9365079365079365, {'max_size': 18, 'n_neighbors': 12})"
      ]
     },
     "execution_count": 31,
     "metadata": {},
     "output_type": "execute_result"
    }
   ],
   "source": [
    "max_score, memorize_params_lof"
   ]
  },
  {
   "cell_type": "code",
   "execution_count": 55,
   "metadata": {},
   "outputs": [
    {
     "name": "stdout",
     "output_type": "stream",
     "text": [
      "cor_d_preds 274 cor_h_preds (do not use) 275 d_pred_len 324 h_pred_len 288\n",
      "fp count 19 first damage index 0\n"
     ]
    }
   ],
   "source": [
    "slof = StreamLearning(healthy_data_top, damage_data_top,  IncrementalLOF(**memorize_params_lof), min_points_for_retraining=18)\n",
    "slof.loop()\n",
    "print_metrics(slof)"
   ]
  },
  {
   "cell_type": "code",
   "execution_count": 33,
   "metadata": {},
   "outputs": [
    {
     "name": "stdout",
     "output_type": "stream",
     "text": [
      "cor_d_preds 160 cor_h_preds (do not use) 284 d_pred_len 322 h_pred_len 288\n",
      "fp count 19 first damage index 2\n"
     ]
    }
   ],
   "source": [
    "slof = StreamLearning(healthy_data_top, damage_data_top,  IncrementalLOF(**memorize_params_lof), min_points_for_retraining=18, reset_clf=True)\n",
    "slof.loop()\n",
    "print_metrics(slof)"
   ]
  },
  {
   "cell_type": "code",
   "execution_count": null,
   "metadata": {},
   "outputs": [],
   "source": [
    "matplotlib.use('Qt5Agg') \n",
    "plot_decision_boundary(slof.clf, np.vstack((healthy_data_top, damage_data_top)), np.hstack((np.full(healthy_data_top.shape[0], 0), np.full(damage_data_top.shape[0], 1))))\n",
    "i = 0\n",
    "while True:\n",
    "    i = i + 1\n",
    "    i = i - 1"
   ]
  },
  {
   "cell_type": "code",
   "execution_count": 58,
   "metadata": {},
   "outputs": [
    {
     "name": "stdout",
     "output_type": "stream",
     "text": [
      "576\n",
      "17\n"
     ]
    },
    {
     "data": {
      "image/png": "[encoded data removed]",
      "text/plain": [
       "<Figure size 1500x600 with 1 Axes>"
      ]
     },
     "metadata": {},
     "output_type": "display_data"
    }
   ],
   "source": [
    "%matplotlib inline\n",
    "plot_anom(slof, \"Online Local Outlier Factor Anomaly Scores\")"
   ]
  },
  {
   "cell_type": "markdown",
   "metadata": {},
   "source": [
    "### LOF with non-decreasing density"
   ]
  },
  {
   "cell_type": "code",
   "execution_count": 278,
   "metadata": {},
   "outputs": [],
   "source": [
    "# Re-importing necessary libraries and redefining the LOFWithLRD class\n",
    "# as the code execution state has been reset.\n",
    "\n",
    "import numpy as np\n",
    "from sklearn.neighbors import NearestNeighbors, LocalOutlierFactor\n",
    "\n",
    "class LOFWithLRD:\n",
    "    def __init__(self, max_size = 36, n_neighbors=20):\n",
    "        \"\"\"\n",
    "        Initialize the LOFWithLRD class.\n",
    "        :param n_neighbors: number of neighbors to consider for LOF and LRD calculation.\n",
    "        \"\"\"\n",
    "        self.n_neighbors = n_neighbors\n",
    "        self.neighbors = None\n",
    "        self.lrd = None\n",
    "        self.max_size = max_size\n",
    "        self.lof_scores = None\n",
    "        self.queue = []\n",
    "        self.prev_lrd = []\n",
    "        self.cur_lrd = []\n",
    "    \n",
    "    def _euclidean_distance(self, point1, point2):\n",
    "        return np.sqrt(np.sum((point1 - point2) ** 2))\n",
    "    \n",
    "    def update(self, new_point):\n",
    "        self.lock = False\n",
    "        self.queue.append(new_point)\n",
    "        while (len(self.queue) > self.max_size):\n",
    "            self.queue.pop(0)\n",
    "\n",
    "    def reachability(self, distances, distances_to_new_point, points, indices_neighbors):\n",
    "        kdistances = distances[indices_neighbors, -1]\n",
    "        reachabilities = np.maximum(distances_to_new_point, kdistances)\n",
    "        return reachabilities\n",
    "    \n",
    "    def calculate_lrd(self, nn_distances,  new_point):\n",
    "        distances = np.array([self._euclidean_distance(new_point, point) for point in self.queue])\n",
    "        neighbor_indices = (np.argsort(distances)[:self.n_neighbors]).astype(int)\n",
    "        reachability = self.reachability(nn_distances, distances[neighbor_indices], self.queue, neighbor_indices)\n",
    "        lrd = 1/np.mean(reachability)\n",
    "        return lrd, neighbor_indices\n",
    "\n",
    "    def predict_proba(self, new_point):\n",
    "        if new_point.ndim == 1:\n",
    "            new_point = np.array([new_point])\n",
    "        scores = []\n",
    "        for pt in new_point:\n",
    "            # calculate nearest neighbors\n",
    "            nn = NearestNeighbors(n_neighbors= self.n_neighbors).fit(self.queue)\n",
    "            distances, _ = nn.kneighbors(self.queue)\n",
    "\n",
    "            # get the nearest k neighbors of new point\n",
    "            new_point_lrd, neighbor_indices = self.calculate_lrd(distances, pt)\n",
    "            self.cur_lrd =  [self.calculate_lrd(distances, point)[0] for point in self.queue]\n",
    "            if len(self.prev_lrd) == 0:\n",
    "                self.true_lrd =self.cur_lrd\n",
    "            else:\n",
    "                if not self.lock:\n",
    "                    self.prev_lrd.append(1000000)\n",
    "                    self.prev_lrd.pop(0)\n",
    "                    self.true_lrd = np.mean((self.prev_lrd, self.cur_lrd), axis = 0).tolist()\n",
    "                    self.true_lrd[-1] = self.cur_lrd[-1]\n",
    "\n",
    "            neighbor_lrd = [self.true_lrd[ni] for ni in neighbor_indices]\n",
    "            self.prev_lrd = self.true_lrd\n",
    "            scores.append(np.mean(neighbor_lrd)/new_point_lrd)\n",
    "        self.lock = True\n",
    "        return scores\n",
    "    \n",
    "    def predict(self, new_point):\n",
    "        if new_point.ndim == 1:\n",
    "            new_point = np.array([new_point])\n",
    "        scores = []\n",
    "        for pt in new_point:\n",
    "            prob_pred = self.predict_proba(pt)[0]\n",
    "            if prob_pred > 1.5:\n",
    "                scores.append(-1)\n",
    "            else:\n",
    "                scores.append(1)\n",
    "        return scores\n"
   ]
  },
  {
   "cell_type": "code",
   "execution_count": 268,
   "metadata": {},
   "outputs": [],
   "source": [
    "param_grid_lof_mod = {\n",
    "    'max_size': [9, 18, 36],\n",
    "    'n_neighbors': [3, 6, 12, 24] # must be smaller than max size\n",
    "}"
   ]
  },
  {
   "cell_type": "code",
   "execution_count": 281,
   "metadata": {},
   "outputs": [
    {
     "name": "stdout",
     "output_type": "stream",
     "text": [
      "cor_d_preds 206 cor_h_preds (do not use) 283 d_pred_len 322 h_pred_len 288\n",
      "fp count 21 first damage index 2\n"
     ]
    }
   ],
   "source": [
    "slof = StreamLearning(healthy_data_top, damage_data_top,  LOFWithLRD(max_size=36, n_neighbors=24), min_points_for_retraining=36, reset_clf=False)\n",
    "slof.loop()\n",
    "print_metrics(slof)"
   ]
  },
  {
   "cell_type": "code",
   "execution_count": 279,
   "metadata": {},
   "outputs": [],
   "source": [
    "max_score = -10\n",
    "param_grid_lof = {}\n",
    "for size in param_grid_lof_mod['max_size']:\n",
    "    for neighbors in param_grid_lof_mod['n_neighbors']:\n",
    "            if neighbors >= size:\n",
    "                 continue\n",
    "            slof = StreamLearning(healthy_data_top, damage_data_top, LOFWithLRD(max_size=size, n_neighbors=neighbors) , min_points_for_retraining=size)\n",
    "            slof.cross_validate()\n",
    "            avg_score = np.mean(slof.val_scores)\n",
    "            if max_score < avg_score:\n",
    "                max_score = avg_score\n",
    "                memorize_params_lof = {'max_size': size, 'n_neighbors': neighbors}"
   ]
  },
  {
   "cell_type": "code",
   "execution_count": 280,
   "metadata": {},
   "outputs": [
    {
     "data": {
      "text/plain": [
       "({'max_size': 36, 'n_neighbors': 24}, 0.9285714285714286)"
      ]
     },
     "execution_count": 280,
     "metadata": {},
     "output_type": "execute_result"
    }
   ],
   "source": [
    "memorize_params_lof, max_score\n",
    "# output (for maximum in LRD: {'max_size': 18, 'n_neighbors': 12}, 0.9246031746031746)\n",
    "# output (for minimum in LRD: {'max_size': 36, 'n_neighbors': 24}, 0.9761904761904763)"
   ]
  },
  {
   "cell_type": "markdown",
   "metadata": {},
   "source": [
    "### Entropy-guided elliptic envelopes"
   ]
  },
  {
   "cell_type": "code",
   "execution_count": 48,
   "metadata": {},
   "outputs": [],
   "source": [
    "from river import active\n",
    "from river import datasets\n",
    "from river import linear_model\n",
    "from river import metrics\n",
    "\n",
    "class EntropyGuidedEnvelopes(): \n",
    "    def __init__(self, nu = 0.1, significance = 1, entropy_window=10):\n",
    "        self.metric = metrics.Accuracy()\n",
    "        self.base_model = linear_model.LogisticRegression(l2 = nu)\n",
    "        self.model = active.EntropySampler(self.base_model, discount_factor=1, seed=42)\n",
    "        self.envelopes = [IncrementalGaussianFitter()]\n",
    "        self.last_entropies = []\n",
    "        self.sig = significance\n",
    "        self.last_two = [] # for stability of the Gaussian we need to keep the last 2 points\n",
    "        self.entropy_window = entropy_window\n",
    "    \n",
    "    @staticmethod\n",
    "    def calculate_entropy(y_pred):\n",
    "        probabilities = y_pred\n",
    "        entropy = -sum(p * np.log2(p) for p in probabilities.values() if p > 0)\n",
    "        return entropy\n",
    "\n",
    "    def update(self, data):\n",
    "        data_dict = {f'x_{i}': val  for i, val in enumerate(data)}\n",
    "        y_pred, ask = self.model.predict_proba_one(data_dict) \n",
    "        if ask:\n",
    "            self.model.learn_one(data_dict, 0)\n",
    "        entropy_cur = EntropyGuidedEnvelopes.calculate_entropy(y_pred)\n",
    "        \n",
    "        # make sure the size of our entropy queue does not exceed entropy_window\n",
    "        if len(self.last_entropies) < self.entropy_window:\n",
    "            self.last_entropies.append(entropy_cur)\n",
    "            # fit the current gaussian fitter to it\n",
    "            self.envelopes[-1].update(data)\n",
    "        else:\n",
    "            while len(self.last_entropies) != self.entropy_window:\n",
    "                self.last_entropies.pop(0)\n",
    "            # now size self.last_entropies contains entropy_window elements\n",
    "            \n",
    "            if entropy_cur > self.sig*np.std(self.last_entropies) + np.mean(self.last_entropies):\n",
    "                # this entropy is with ~70% confidence much larger than previous entropies\n",
    "                # hence, create a new envelope\n",
    "                self.envelopes.append(IncrementalGaussianFitter())\n",
    "                self.envelopes[-1].update(data)\n",
    "                for pt in self.last_two:\n",
    "                    self.envelopes[-1].update(pt)\n",
    "            else:\n",
    "                # this entropy is more or less the same as the previous, hence roughly the same distribution\n",
    "                # --> belongs to the same envelope as the previous\n",
    "                self.envelopes[-1].update(data)\n",
    "            self.last_entropies.append(entropy_cur)\n",
    "\n",
    "            # for stability of the Gaussian we need to keep the last 2 points\n",
    "            self.last_two.append(data)\n",
    "            while len(self.last_two) > 3:\n",
    "                self.last_two.pop(0)\n",
    "\n",
    "    def predict_proba(self, points):\n",
    "        if points.ndim == 1:\n",
    "            points = np.array([points])\n",
    "        #print(self.envelopes[-1].count)\n",
    "        return self.envelopes[-1].predict_proba(points)\n",
    "    \n",
    "    def decision_function(self, points):\n",
    "        return self.predict_proba(points)\n",
    "    \n",
    "    def predict(self, points):\n",
    "        if points.ndim == 1:\n",
    "            points = np.array([points])\n",
    "        return self.envelopes[-1].predict(points)"
   ]
  },
  {
   "cell_type": "code",
   "execution_count": 51,
   "metadata": {},
   "outputs": [
    {
     "name": "stdout",
     "output_type": "stream",
     "text": [
      "cor_d_preds 312 cor_h_preds (do not use) 122 d_pred_len 324 h_pred_len 288\n",
      "fp count 32 first damage index 0\n"
     ]
    }
   ],
   "source": [
    "slen = StreamLearning(healthy_data_top, damage_data_top, EntropyGuidedEnvelopes(nu = 0.1, significance=3, entropy_window=10), min_points_for_retraining=3, reset_clf=False)\n",
    "slen.loop()\n",
    "print_metrics(slen)"
   ]
  },
  {
   "cell_type": "code",
   "execution_count": 44,
   "metadata": {},
   "outputs": [],
   "source": [
    "param_grid_eng = {'nu': [0.1, 0.2, 0.4, 0.75], 'significance': [1, 2, 3, 4], 'entropy_window': [5, 10, 15, 20, 30]}"
   ]
  },
  {
   "cell_type": "code",
   "execution_count": 49,
   "metadata": {},
   "outputs": [],
   "source": [
    "max_score = -10\n",
    "memorize_params_eng = {}\n",
    "for nu in param_grid_eng['nu']:\n",
    "    for sig in param_grid_eng['significance']:\n",
    "        for win in param_grid_eng['entropy_window']:\n",
    "            sleng = StreamLearning(healthy_data_top, damage_data_top, EntropyGuidedEnvelopes(nu = nu, significance=sig, entropy_window=win) , min_points_for_retraining=3)\n",
    "            sleng.cross_validate()\n",
    "            avg_score = np.mean(sleng.val_scores)\n",
    "            if max_score < avg_score:\n",
    "                max_score = avg_score\n",
    "                memorize_params_eng = {'nu': nu, 'significance': sig, 'entropy_window': win}"
   ]
  },
  {
   "cell_type": "code",
   "execution_count": 50,
   "metadata": {},
   "outputs": [
    {
     "data": {
      "text/plain": [
       "({'nu': 0.1, 'significance': 3, 'entropy_window': 10}, 0.9246031746031746)"
      ]
     },
     "execution_count": 50,
     "metadata": {},
     "output_type": "execute_result"
    }
   ],
   "source": [
    "memorize_params_eng, max_score"
   ]
  },
  {
   "cell_type": "code",
   "execution_count": null,
   "metadata": {},
   "outputs": [],
   "source": [
    "matplotlib.use('Qt5Agg') \n",
    "plot_decision_boundary(slen.clf, np.vstack((healthy_data_top, damage_data_top)), np.hstack((np.full(healthy_data_top.shape[0], 0), np.full(damage_data_top.shape[0], 1))))"
   ]
  },
  {
   "cell_type": "code",
   "execution_count": 54,
   "metadata": {},
   "outputs": [
    {
     "data": {
      "text/plain": [
       "(7, 4)"
      ]
     },
     "execution_count": 54,
     "metadata": {},
     "output_type": "execute_result"
    }
   ],
   "source": [
    "slen.clf.envelopes[-1].count, len(slen.clf.envelopes)"
   ]
  },
  {
   "cell_type": "code",
   "execution_count": 61,
   "metadata": {},
   "outputs": [
    {
     "name": "stdout",
     "output_type": "stream",
     "text": [
      "576\n",
      "17\n"
     ]
    },
    {
     "data": {
      "image/png": "[encoded data removed]",
      "text/plain": [
       "<Figure size 1500x600 with 1 Axes>"
      ]
     },
     "metadata": {},
     "output_type": "display_data"
    }
   ],
   "source": [
    "plot_anom(slen, \"Entropy-guided Elliptic Envelope Anomaly Scores\")"
   ]
  },
  {
   "cell_type": "code",
   "execution_count": 38,
   "metadata": {},
   "outputs": [],
   "source": [
    "from river import metrics\n",
    "from river import linear_model\n",
    "from river import active\n",
    "\n",
    "def calculate_entropy(y_pred):\n",
    "    probabilities = y_pred\n",
    "    entropy = -sum(p * np.log2(p) for p in probabilities.values() if p > 0)\n",
    "    return entropy\n",
    "\n",
    "X_river = [\n",
    "    {f\"feature_{i}\": value for i, value in enumerate(sample)}\n",
    "    for sample in np.vstack((healthy_data_top, damage_data_top))\n",
    "]\n",
    "y_river = np.hstack((np.zeros(len(healthy_data_top)), np.ones(len(damage_data_top)))).tolist() \n",
    "\n",
    "metric = metrics.Accuracy()\n",
    "base_model = linear_model.LogisticRegression(l2 = 0.1)\n",
    "model = active.EntropySampler(base_model, discount_factor=1, seed=42)\n",
    "n_samples_used = 0\n",
    "entropies = []\n",
    "\n",
    "# Process each sample in the dataset\n",
    "for i in range(len(X_river)):\n",
    "    x = X_river[i]\n",
    "    y_true = y_river[i]\n",
    "    y_pred, ask = model.predict_proba_one(x) \n",
    "    entropy_cur = calculate_entropy(y_pred)\n",
    "    entropies.append(entropy_cur)\n",
    "    if ask:\n",
    "        n_samples_used += 1\n",
    "        model = model.learn_one(x, y_true)  # Learn from the true label"
   ]
  },
  {
   "cell_type": "code",
   "execution_count": 43,
   "metadata": {},
   "outputs": [
    {
     "name": "stdout",
     "output_type": "stream",
     "text": [
      "576\n",
      "17\n"
     ]
    },
    {
     "data": {
      "image/png": "[encoded data removed]",
      "text/plain": [
       "<Figure size 1500x600 with 1 Axes>"
      ]
     },
     "metadata": {},
     "output_type": "display_data"
    }
   ],
   "source": [
    "sns.reset_defaults()\n",
    "sns.reset_orig()\n",
    "\n",
    "plt.figure(figsize=(15, 6))\n",
    "nbr_epochs = healthy_data_top.shape[0] - 36 + damage_data_top.shape[0]\n",
    "print(nbr_epochs)\n",
    "\n",
    "an_scores = np.hstack(entropies[36:]).reshape(-1, 1)\n",
    "print(len(range(0, nbr_epochs+1, 36)))\n",
    "for i in range(0, nbr_epochs+1, 36):\n",
    "    plt.axvline(x=i, color='red', linestyle='--', linewidth=0.8)\n",
    "\n",
    "# scale and plot the bars\n",
    "sc = StandardScaler()\n",
    "obs = np.arange(len(an_scores))\n",
    "std_entropies = sc.fit_transform(an_scores).flatten()\n",
    "\n",
    "plt.axvspan(36*7, 36*16, color='yellow', alpha=0.08)\n",
    "plt.bar(obs, std_entropies)\n",
    "plt.ylim(0, 1.15*max(std_entropies))\n",
    "\n",
    "plt.xlabel('Epoch (16,384 samples or 2.7 min per epoch)')\n",
    "plt.ylabel('Standardized anomaly score')\n",
    "plt.title('Entropy Evolution for Incremental Logistic Regression')\n",
    "text_pos = [i+18 for i in range(0, nbr_epochs, 36)]\n",
    "\n",
    "# print title for each state\n",
    "for idx, pos in enumerate(text_pos):\n",
    "    str_capt =  f'DS {idx+2}'\n",
    "    plt.text(pos, max(std_entropies)*1.1, str_capt, ha='center', color='red')\n",
    "\n",
    "plt.show()"
   ]
  },
  {
   "cell_type": "code",
   "execution_count": null,
   "metadata": {},
   "outputs": [],
   "source": []
  }
 ],
 "metadata": {
  "kernelspec": {
   "display_name": "Python 3",
   "language": "python",
   "name": "python3"
  },
  "language_info": {
   "codemirror_mode": {
    "name": "ipython",
    "version": 3
   },
   "file_extension": ".py",
   "mimetype": "text/x-python",
   "name": "python",
   "nbconvert_exporter": "python",
   "pygments_lexer": "ipython3",
   "version": "3.11.5"
  }
 },
 "nbformat": 4,
 "nbformat_minor": 2
}
