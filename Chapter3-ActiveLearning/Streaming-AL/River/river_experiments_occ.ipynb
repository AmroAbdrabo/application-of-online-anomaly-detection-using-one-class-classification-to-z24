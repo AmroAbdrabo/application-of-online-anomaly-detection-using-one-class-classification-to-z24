{
 "cells": [
  {
   "cell_type": "markdown",
   "metadata": {},
   "source": [
    "## Incremental learning with River"
   ]
  },
  {
   "cell_type": "code",
   "execution_count": 11,
   "metadata": {},
   "outputs": [],
   "source": [
    "import numpy as np\n",
    "import seaborn as sns\n",
    "import matplotlib.pyplot as plt\n",
    "from sklearn.svm import OneClassSVM\n",
    "from sklearn.model_selection import GridSearchCV\n",
    "import sys\n",
    "from sklearn.metrics import roc_auc_score, f1_score, balanced_accuracy_score\n",
    "from scipy.stats import mode\n",
    "from sklearn.decomposition import PCA\n",
    "from sklearn.metrics import accuracy_score\n",
    "from sklearn.metrics import confusion_matrix\n",
    "from sklearn.model_selection import train_test_split\n",
    "from sklearn.metrics import roc_curve, auc\n",
    "from scipy.spatial.distance import mahalanobis\n",
    "import random\n",
    "sys.path.append('.\\\\..\\\\..\\\\..\\\\Chapter2-Z24-dataset')\n",
    "import random\n",
    "from river import anomaly\n",
    "from sklearn.preprocessing import StandardScaler\n",
    "from predict import binarize\n",
    "import os"
   ]
  },
  {
   "cell_type": "code",
   "execution_count": 12,
   "metadata": {},
   "outputs": [],
   "source": [
    "X_train = np.load(\"C:\\\\Users\\\\amroa\\\\Documents\\\\thesis\\\\X_train.npy\")\n",
    "labels_train = np.load(\"C:\\\\Users\\\\amroa\\\\Documents\\\\thesis\\\\labels_train.npy\")\n",
    "X_test = np.load(\"C:\\\\Users\\\\amroa\\\\Documents\\\\thesis\\\\X_test.npy\")\n",
    "labels_test = np.load(\"C:\\\\Users\\\\amroa\\\\Documents\\\\thesis\\\\labels_test.npy\")"
   ]
  },
  {
   "cell_type": "code",
   "execution_count": 13,
   "metadata": {},
   "outputs": [
    {
     "data": {
      "text/plain": [
       "((544, 906), (68, 906))"
      ]
     },
     "execution_count": 13,
     "metadata": {},
     "output_type": "execute_result"
    }
   ],
   "source": [
    "X_train.shape, \\\n",
    "X_test.shape"
   ]
  },
  {
   "cell_type": "code",
   "execution_count": 14,
   "metadata": {},
   "outputs": [],
   "source": [
    "# feature selection (see previous part -- xgboost binary)\n",
    "subset_indices =  [191, 374, 328, 673]"
   ]
  },
  {
   "cell_type": "code",
   "execution_count": 15,
   "metadata": {},
   "outputs": [],
   "source": [
    "def plot_roc(true_y, y_prob, method_name):\n",
    "    fpr, tpr, _ = roc_curve(true_y, y_prob)\n",
    "    roc_auc = auc(fpr, tpr)\n",
    "    plt.figure()\n",
    "    lw = 2 \n",
    "    plt.plot(fpr, tpr, color='darkorange',\n",
    "            lw=lw, label='ROC curve (area = %0.2f)' % roc_auc)\n",
    "    plt.plot([0, 1], [0, 1], color='navy', lw=lw, linestyle='--')\n",
    "    plt.xlim([0.0, 1.0])\n",
    "    plt.ylim([0.0, 1.05])\n",
    "    plt.xlabel('False Positive Rate')\n",
    "    plt.ylabel('True Positive Rate')\n",
    "    plt.title(f'ROC for {method_name}')\n",
    "    plt.legend(loc=\"lower right\")\n",
    "    plt.show()"
   ]
  },
  {
   "cell_type": "markdown",
   "metadata": {},
   "source": [
    "### Recreate original dataset"
   ]
  },
  {
   "cell_type": "code",
   "execution_count": 16,
   "metadata": {},
   "outputs": [
    {
     "name": "stdout",
     "output_type": "stream",
     "text": [
      "544\n"
     ]
    }
   ],
   "source": [
    "test_indices=  np.array([])\n",
    "train_indices=  np.array([])\n",
    "\n",
    "for i in range(17):\n",
    "    random.seed(i)\n",
    "    nbr_splits = 36 #  recall 612/17 = 36, where 612 = total nbr of epochs, 17 is nbr of scenarios\n",
    "    test_split = 4\n",
    "    test_indices_temp = np.array(random.sample(range(nbr_splits), test_split))\n",
    "    test_indices = np.append(test_indices, i*nbr_splits + test_indices_temp)\n",
    "    train_indices = np.append(train_indices,  i*nbr_splits+ np.array([x for x in range(nbr_splits) if x not in test_indices_temp]))\n",
    "\n",
    "print(len(train_indices))"
   ]
  },
  {
   "cell_type": "code",
   "execution_count": 17,
   "metadata": {},
   "outputs": [],
   "source": [
    "train_ctr = 0\n",
    "test_ctr = 0\n",
    "data_all = []\n",
    "labels_all = []\n",
    "for i in range(612):\n",
    "    if i in train_indices:\n",
    "        data_all.append(X_train[train_ctr])\n",
    "        labels_all.append(labels_train[train_ctr])\n",
    "        train_ctr += 1\n",
    "    elif i in test_indices:\n",
    "        data_all.append(X_test[test_ctr])\n",
    "        labels_all.append(labels_test[test_ctr])\n",
    "        test_ctr += 1"
   ]
  },
  {
   "cell_type": "code",
   "execution_count": 18,
   "metadata": {},
   "outputs": [],
   "source": [
    "y_all = binarize(labels_all) # is the labels of all instances \n",
    "data_all = np.array(data_all) # are all the instances"
   ]
  },
  {
   "cell_type": "code",
   "execution_count": 19,
   "metadata": {},
   "outputs": [
    {
     "data": {
      "text/plain": [
       "((288, 4), (324, 4))"
      ]
     },
     "execution_count": 19,
     "metadata": {},
     "output_type": "execute_result"
    }
   ],
   "source": [
    "data_all_top = data_all[:, subset_indices] \n",
    "healthy_data = data_all_top[y_all == 0]\n",
    "damage_data = data_all_top[y_all == 1]\n",
    "healthy_data.shape, damage_data.shape"
   ]
  },
  {
   "cell_type": "code",
   "execution_count": 20,
   "metadata": {},
   "outputs": [],
   "source": [
    "# for occ labels are defined differently\n",
    "damage_labels  = -1*np.ones(damage_data.shape[0])\n",
    "healthy_labels =    np.ones(healthy_data.shape[0])"
   ]
  },
  {
   "cell_type": "code",
   "execution_count": 21,
   "metadata": {},
   "outputs": [],
   "source": [
    "def fill_between_plot(x_range, average_obs, std_obs, label, title):\n",
    "    plt.figure(figsize=(8, 5))\n",
    "    colors = ['blue', 'cyan', 'red', 'green']\n",
    "    for idx, (avg_obs, std_ob) in enumerate(zip(average_obs, std_obs)):\n",
    "        plt.plot(x_range, avg_obs, color = colors[idx], label=label)\n",
    "        plt.fill_between(x_range, avg_obs - std_ob, avg_obs + std_ob, color=colors[idx], alpha=0.5, label='1 std dev')\n",
    "    plt.title(title)\n",
    "    plt.xlabel(\"Healthy population sample size\")\n",
    "    plt.ylabel(label)\n",
    "    plt.legend()\n",
    "    plt.show()"
   ]
  },
  {
   "cell_type": "code",
   "execution_count": 22,
   "metadata": {},
   "outputs": [],
   "source": [
    "def fill_between_plot_diffx(x_ranges, average_obs, std_obs, label, title, labely):\n",
    "    plt.figure(figsize=(8, 5))\n",
    "    colors = ['blue', 'cyan', 'red', 'green']\n",
    "    \n",
    "    # Ensure that x_ranges, average_obs, and std_obs have the same length\n",
    "    if not (len(x_ranges) == len(average_obs) == len(std_obs)):\n",
    "        raise ValueError(\"Length of x_ranges, average_obs, and std_obs must be the same\")\n",
    "\n",
    "    for idx, (x_range, avg_obs, std_ob) in enumerate(zip(x_ranges, average_obs, std_obs)):\n",
    "        plt.plot(x_range, avg_obs, color=colors[idx % len(colors)], label=f'{label[idx]}')\n",
    "        plt.fill_between(x_range, avg_obs - std_ob, avg_obs + std_ob, color=colors[idx % len(colors)], alpha=0.5, label='1 std dev')\n",
    "    \n",
    "    plt.title(title)\n",
    "    plt.xlabel(\"Healthy population sample size\")\n",
    "    plt.ylabel(labely)\n",
    "    plt.legend()\n",
    "    plt.show()"
   ]
  },
  {
   "cell_type": "markdown",
   "metadata": {},
   "source": [
    "### Test and training dataset"
   ]
  },
  {
   "cell_type": "code",
   "execution_count": 23,
   "metadata": {},
   "outputs": [
    {
     "data": {
      "text/plain": [
       "((288, 4), (324, 4))"
      ]
     },
     "execution_count": 23,
     "metadata": {},
     "output_type": "execute_result"
    }
   ],
   "source": [
    "healthy_data.shape, damage_data.shape"
   ]
  },
  {
   "cell_type": "code",
   "execution_count": 24,
   "metadata": {},
   "outputs": [
    {
     "name": "stdout",
     "output_type": "stream",
     "text": [
      "[ 35  13  26  30  16  31  21  12   8  17   9  34   0   4  29  15  19   5\n",
      "  11   1  24   2  33   3  32  23  27  51  52  40  45  64  57  46  41  54\n",
      "  48  61  58  65  36  62  71  59  43  47  67  50  55  37  69  68  66  49\n",
      "  73  82  76 104  77  74 102 106  95  83  78  88  72  93  90  91  80  96\n",
      "  99 107  84 100  92  98  94 103  79 118 136 111 127 128 120 113 139 143\n",
      " 117 134 125 124 121 122 132 126 141 129 138 137 110 142 131 133 130 123\n",
      " 170 174 164 146 151 159 144 161 165 152 177 163 169 157 168 160 155 149\n",
      " 167 153 145 162 172 171 176 154 158 202 213 183 190 195 200 215 205 212\n",
      " 197 208 207 214 181 186 193 204 211 196 199 210 201 194 203 191 189 198\n",
      " 228 231 235 250 222 223 225 229 240 218 233 237 244 224 249 230 239 251\n",
      " 246 220 242 232 226 243 219 238 221 277 275 274 255 257 273 272 266 282\n",
      " 285 264 256 263 265 276 253 268 287 267 279 254 261 278 262 281 280 269]\n"
     ]
    },
    {
     "data": {
      "text/plain": [
       "((216, 4), (324, 4), (72, 4))"
      ]
     },
     "execution_count": 24,
     "metadata": {},
     "output_type": "execute_result"
    }
   ],
   "source": [
    "random.seed(42)\n",
    "test_size = 0.25\n",
    "np.random.seed(42)\n",
    "healthy_idx = np.concatenate([[i*36 + np.random.choice(36, size=int(36*(1-test_size)), replace=False)] for i in range(8)], axis=1)[0]\n",
    "print(healthy_idx)\n",
    "healthy_train = healthy_data[np.sort(healthy_idx), :]\n",
    "healthy_test = healthy_data[np.sort(np.array([i for i in range(healthy_data.shape[0]) if i not in healthy_idx])), :]\n",
    "\n",
    "dam_test = damage_data\n",
    "healthy_train.shape, dam_test.shape, healthy_test.shape"
   ]
  },
  {
   "cell_type": "code",
   "execution_count": 25,
   "metadata": {},
   "outputs": [],
   "source": [
    "test_data = np.vstack([healthy_test, dam_test])\n",
    "test_labels = np.repeat([1, -1], [healthy_test.shape[0], dam_test.shape[0]]).astype(int)\n",
    "\n",
    "train_data = healthy_train\n",
    "train_labels = np.full(train_data.shape[0], 1).astype(int)"
   ]
  },
  {
   "cell_type": "code",
   "execution_count": 26,
   "metadata": {},
   "outputs": [
    {
     "data": {
      "text/plain": [
       "((216, 3),\n",
       " (396, 3),\n",
       " array([1.49010295, 0.19344821, 0.09351647]),\n",
       " array([0.80329501, 0.1042854 , 0.05041351]))"
      ]
     },
     "execution_count": 26,
     "metadata": {},
     "output_type": "execute_result"
    }
   ],
   "source": [
    "pca = PCA(n_components=3)\n",
    "sc = StandardScaler()\n",
    "\n",
    "sc.fit(healthy_data[0:36])\n",
    "pca.fit(healthy_data[0:36])\n",
    "\n",
    "train_data = sc.transform(train_data)\n",
    "train_data = pca.transform(train_data)\n",
    "\n",
    "test_data = sc.transform(test_data)\n",
    "test_data = pca.transform(test_data)\n",
    "\n",
    "train_data.shape, test_data.shape, pca.explained_variance_, pca.explained_variance_ratio_"
   ]
  },
  {
   "cell_type": "code",
   "execution_count": 27,
   "metadata": {},
   "outputs": [
    {
     "data": {
      "text/plain": [
       "(324, 4)"
      ]
     },
     "execution_count": 27,
     "metadata": {},
     "output_type": "execute_result"
    }
   ],
   "source": [
    "damage_data.shape"
   ]
  },
  {
   "cell_type": "markdown",
   "metadata": {},
   "source": [
    "## Visualization (static)"
   ]
  },
  {
   "cell_type": "markdown",
   "metadata": {},
   "source": [
    "### Time color-coded - static"
   ]
  },
  {
   "cell_type": "code",
   "execution_count": 222,
   "metadata": {},
   "outputs": [
    {
     "name": "stdout",
     "output_type": "stream",
     "text": [
      "(612, 4)\n"
     ]
    }
   ],
   "source": [
    "import matplotlib\n",
    "matplotlib.use('Qt5Agg')\n",
    "data_plot = np.vstack([healthy_data, damage_data])\n",
    "data_plot = pca.transform(data_plot)\n",
    "\n",
    "plt.figure(figsize=(10, 6))\n",
    "plt.scatter(data_plot[:, 0], data_plot[:, 1], c=range(len(data_plot)), cmap='viridis')\n",
    "plt.xlabel('PC 1')\n",
    "plt.ylabel('PC 2')\n",
    "plt.colorbar(label='Time')\n",
    "plt.title('$[x_{R1V}, x_{R2L}, x_{R2T}, x_{R2V}, x_{R3V}]_t$ in PC Space')\n",
    "\n",
    "plt.show()"
   ]
  },
  {
   "cell_type": "code",
   "execution_count": 149,
   "metadata": {},
   "outputs": [],
   "source": [
    "plt.figure(figsize=(10, 6))\n",
    "plt.scatter(data_plot[:, 1], data_plot[:, 2], c=range(len(data_plot)), cmap='viridis')\n",
    "plt.xlabel('PC 2')\n",
    "plt.ylabel('PC 3')\n",
    "plt.colorbar(label='Time')\n",
    "plt.title('$[x_{R1V}, x_{R2L}, x_{R2T}, x_{R2V}, x_{R3V}]_t$ in PC Space')\n",
    "\n",
    "plt.show()"
   ]
  },
  {
   "cell_type": "code",
   "execution_count": 150,
   "metadata": {},
   "outputs": [],
   "source": [
    "plt.figure(figsize=(10, 6))\n",
    "plt.scatter(data_plot[:, 0], data_plot[:, 2], c=range(len(data_plot)), cmap='viridis')\n",
    "plt.xlabel('PC 1')\n",
    "plt.ylabel('PC 3')\n",
    "plt.colorbar(label='Time')\n",
    "plt.title('$[x_{R1V}, x_{R2L}, x_{R2T}, x_{R2V}, x_{R3V}]_t$ in PC Space')\n",
    "\n",
    "plt.show()"
   ]
  },
  {
   "cell_type": "markdown",
   "metadata": {},
   "source": [
    "### Healthy vs damaged scatter plots - static"
   ]
  },
  {
   "cell_type": "code",
   "execution_count": 153,
   "metadata": {},
   "outputs": [],
   "source": [
    "plt.figure(figsize=(10, 6))\n",
    "plt.scatter(data_plot[healthy_data.shape[0]:, 0], data_plot[healthy_data.shape[0]:, 2],  color='red')\n",
    "plt.scatter(data_plot[:healthy_data.shape[0], 0], data_plot[:healthy_data.shape[0], 2], color='blue')\n",
    "plt.xlabel('PC 1')\n",
    "plt.ylabel('PC 3')\n",
    "plt.title('$[x_{R1V}, x_{R2L}, x_{R2T}, x_{R2V}, x_{R3V}]_t$ in PC Space')\n",
    "\n",
    "plt.show()"
   ]
  },
  {
   "cell_type": "code",
   "execution_count": 154,
   "metadata": {},
   "outputs": [],
   "source": [
    "plt.figure(figsize=(10, 6))\n",
    "plt.scatter(data_plot[healthy_data.shape[0]:, 1], data_plot[healthy_data.shape[0]:, 2],  color='red')\n",
    "plt.scatter(data_plot[:healthy_data.shape[0], 1], data_plot[:healthy_data.shape[0], 2], color='blue')\n",
    "plt.xlabel('PC 2')\n",
    "plt.ylabel('PC 3')\n",
    "plt.title('$[x_{R1V}, x_{R2L}, x_{R2T}, x_{R2V}, x_{R3V}]_t$ in PC Space')\n",
    "\n",
    "plt.show()"
   ]
  },
  {
   "cell_type": "code",
   "execution_count": 155,
   "metadata": {},
   "outputs": [],
   "source": [
    "plt.figure(figsize=(10, 6))\n",
    "plt.scatter(data_plot[healthy_data.shape[0]:, 0], data_plot[healthy_data.shape[0]:, 1],  color='red')\n",
    "plt.scatter(data_plot[:healthy_data.shape[0], 0], data_plot[:healthy_data.shape[0], 1], color='blue')\n",
    "plt.xlabel('PC 1')\n",
    "plt.ylabel('PC 2')\n",
    "plt.title('$[x_{R1V}, x_{R2L}, x_{R2T}, x_{R2V}, x_{R3V}]_t$ in PC Space')\n",
    "\n",
    "plt.show()"
   ]
  },
  {
   "cell_type": "code",
   "execution_count": 223,
   "metadata": {},
   "outputs": [],
   "source": [
    "np.save(\"data_plot.npy\", data_plot)"
   ]
  },
  {
   "cell_type": "markdown",
   "metadata": {},
   "source": [
    "### Healthy vs damaged - animated"
   ]
  },
  {
   "cell_type": "code",
   "execution_count": 233,
   "metadata": {},
   "outputs": [],
   "source": [
    "import matplotlib.animation as animation\n",
    "matplotlib.use('Qt5Agg')  # 'Qt5Agg', 'Qt4Agg', 'GTK3Agg', 'WXAgg'\n",
    "\n",
    "data_plot = np.load(\"data_plot.npy\")\n",
    "fig, ax = plt.subplots(figsize=(10, 6))\n",
    "ax.set_xlabel('PC 1')\n",
    "ax.set_ylabel('PC 2')\n",
    "ax.set_title('$[x_{R1V}, x_{R2L}, x_{R2T}, x_{R2V}, x_{R3V}]_t$ in PC Space')\n",
    "ax.set_xlim(data_plot[:, 0].min() - 1, data_plot[:, 0].max() + 1)\n",
    "ax.set_ylim(data_plot[:, 1].min() - 1, data_plot[:, 1].max() + 1)\n",
    "current_num_text = ax.text(0.05, 0.95, '', transform=ax.transAxes)\n",
    "\n",
    "# Animation function for showing scatter points one by one\n",
    "def update(num):\n",
    "    point = ax.scatter(data_plot[num, 0], data_plot[num, 1], color='blue' if num < healthy_data.shape[0] else 'red', marker = 'o', s=30)\n",
    "    current_num_text.set_text(f'Instance: {num}')\n",
    "    return point, current_num_text\n",
    "\n",
    "# Creating the new animation\n",
    "ani = animation.FuncAnimation(fig, update, frames=data_plot.shape[0], interval=10, blit=True)\n",
    "ani.save('pc1pc2animation.gif', writer='pillow')\n",
    "plt.close()  # Close the plot to finalize the animation file creation"
   ]
  },
  {
   "cell_type": "code",
   "execution_count": 234,
   "metadata": {},
   "outputs": [
    {
     "name": "stderr",
     "output_type": "stream",
     "text": [
      "Traceback (most recent call last):\n",
      "  File \"c:\\Users\\amroa\\AppData\\Local\\Programs\\Python\\Python311\\Lib\\site-packages\\matplotlib\\cbook\\__init__.py\", line 309, in process\n",
      "    func(*args, **kwargs)\n",
      "  File \"c:\\Users\\amroa\\AppData\\Local\\Programs\\Python\\Python311\\Lib\\site-packages\\matplotlib\\animation.py\", line 908, in _start\n",
      "    self.event_source.add_callback(self._step)\n",
      "    ^^^^^^^^^^^^^^^^^^^^^^^^^^^^^^\n",
      "AttributeError: 'NoneType' object has no attribute 'add_callback'\n"
     ]
    },
    {
     "name": "stderr",
     "output_type": "stream",
     "text": [
      "Traceback (most recent call last):\n",
      "  File \"c:\\Users\\amroa\\AppData\\Local\\Programs\\Python\\Python311\\Lib\\site-packages\\matplotlib\\cbook\\__init__.py\", line 309, in process\n",
      "    func(*args, **kwargs)\n",
      "  File \"c:\\Users\\amroa\\AppData\\Local\\Programs\\Python\\Python311\\Lib\\site-packages\\matplotlib\\animation.py\", line 908, in _start\n",
      "    self.event_source.add_callback(self._step)\n",
      "    ^^^^^^^^^^^^^^^^^^^^^^^^^^^^^^\n",
      "AttributeError: 'NoneType' object has no attribute 'add_callback'\n"
     ]
    }
   ],
   "source": [
    "fig, ax = plt.subplots(figsize=(10, 6))\n",
    "ax.set_xlabel('PC 1')\n",
    "ax.set_ylabel('PC 3')\n",
    "ax.set_title('$[x_{R1V}, x_{R2L}, x_{R2T}, x_{R2V}, x_{R3V}]_t$ in PC Space')\n",
    "ax.set_xlim(data_plot[:, 0].min() - 1, data_plot[:, 0].max() + 1)\n",
    "ax.set_ylim(data_plot[:, 2].min() - 1, data_plot[:, 2].max() + 1)\n",
    "current_num_text = ax.text(0.05, 0.95, '', transform=ax.transAxes)\n",
    "\n",
    "# Animation function for showing scatter points one by one\n",
    "def update(num):\n",
    "    point = ax.scatter(data_plot[num, 0], data_plot[num, 2], color='blue' if num < healthy_data.shape[0] else 'red', marker = 'o', s=30)\n",
    "    current_num_text.set_text(f'Instance: {num}')\n",
    "    return point, current_num_text\n",
    "\n",
    "# Creating the new animation\n",
    "ani = animation.FuncAnimation(fig, update, frames=data_plot.shape[0], interval=10, blit=True)\n",
    "ani.save('pc1pc3animation.gif', writer='pillow')\n",
    "plt.close()  # Close the plot to finalize the animation file creation"
   ]
  },
  {
   "cell_type": "code",
   "execution_count": 232,
   "metadata": {},
   "outputs": [
    {
     "name": "stderr",
     "output_type": "stream",
     "text": [
      "Traceback (most recent call last):\n",
      "  File \"c:\\Users\\amroa\\AppData\\Local\\Programs\\Python\\Python311\\Lib\\site-packages\\matplotlib\\cbook\\__init__.py\", line 309, in process\n",
      "    func(*args, **kwargs)\n",
      "  File \"c:\\Users\\amroa\\AppData\\Local\\Programs\\Python\\Python311\\Lib\\site-packages\\matplotlib\\animation.py\", line 908, in _start\n",
      "    self.event_source.add_callback(self._step)\n",
      "    ^^^^^^^^^^^^^^^^^^^^^^^^^^^^^^\n",
      "AttributeError: 'NoneType' object has no attribute 'add_callback'\n"
     ]
    }
   ],
   "source": [
    "fig, ax = plt.subplots(figsize=(10, 6))\n",
    "ax.set_xlabel('PC 2')\n",
    "ax.set_ylabel('PC 3')\n",
    "ax.set_title('$[x_{R1V}, x_{R2L}, x_{R2T}, x_{R2V}, x_{R3V}]_t$ in PC Space')\n",
    "ax.set_xlim(data_plot[:, 1].min() - 1, data_plot[:, 1].max() + 1)\n",
    "ax.set_ylim(data_plot[:, 2].min() - 1, data_plot[:, 2].max() + 1)\n",
    "current_num_text = ax.text(0.05, 0.95, '', transform=ax.transAxes)\n",
    "\n",
    "# Animation function for showing scatter points one by one\n",
    "def update(num):\n",
    "    point = ax.scatter(data_plot[num, 1], data_plot[num, 2], color='blue' if num < healthy_data.shape[0] else 'red', marker = 'o', s=30)\n",
    "    current_num_text.set_text(f'Instance: {num}')\n",
    "    return point, current_num_text\n",
    "\n",
    "# Creating the new animation\n",
    "ani = animation.FuncAnimation(fig, update, frames=data_plot.shape[0], interval=10, blit=True)\n",
    "ani.save('pc2pc3animation.gif', writer='pillow')\n",
    "plt.close()  # Close the plot to finalize the animation file creation"
   ]
  },
  {
   "cell_type": "code",
   "execution_count": 238,
   "metadata": {},
   "outputs": [
    {
     "name": "stdout",
     "output_type": "stream",
     "text": [
      "(4, 4)\n"
     ]
    }
   ],
   "source": [
    "corr = np.corrcoef(data_all_top, rowvar=False)\n",
    "print(corr.shape)\n",
    "\n",
    "mask = np.triu(np.ones_like(corr, dtype=bool))\n",
    "plt.figure(figsize=(10, 8))\n",
    "sns.heatmap(corr, mask=mask, cmap='viridis', vmax=1, center=0,\n",
    "            square=True, linewidths=.5, annot=True, cbar_kws={\"shrink\": .5})\n",
    "plt.title('Correlation Matrix')\n",
    "plt.show()"
   ]
  },
  {
   "cell_type": "code",
   "execution_count": 18,
   "metadata": {},
   "outputs": [],
   "source": [
    "param_grid_occ_svm = {\n",
    "    'nu': [0.01, 0.1, 0.2], \n",
    "    'gamma': ['scale', 'auto'],\n",
    "    'tol': [1e-3, 1e-2, 1e-1],\n",
    "    'kernel': ['rbf']\n",
    "} # rbf by default"
   ]
  },
  {
   "cell_type": "markdown",
   "metadata": {},
   "source": [
    "### Story\n",
    "Train OCC on first health scenario, then data comes one by one. Each data point that arrives is added to the support of the OCC. The OCC detects weather each new arriving point is anomalous or not. After accumulation of all healthy points into the support occurs, we test on all damage data to see whether it will report healthy or damaged. Note, to be realistic the support should be implemented incrementally, i.e. naively storing all arriving instances is not realistic.   "
   ]
  },
  {
   "cell_type": "code",
   "execution_count": 28,
   "metadata": {},
   "outputs": [
    {
     "data": {
      "text/plain": [
       "((288, 4), (324, 4), (288, 3), (324, 3), (252, 3), (36, 3))"
      ]
     },
     "execution_count": 28,
     "metadata": {},
     "output_type": "execute_result"
    }
   ],
   "source": [
    "healthy_data_top = pca.transform(sc.transform(healthy_data))\n",
    "damage_data_top  = pca.transform(sc.transform(damage_data))\n",
    "\n",
    "# last half of 7 and first half of 8 should be val\n",
    "healthy_data_top_val   = healthy_data_top[int(-72 + (36/2)):-18]\n",
    "healthy_data_top_train = np.vstack((healthy_data_top[:int(-72 + (36/2))], healthy_data_top[-18:]))\n",
    "\n",
    "healthy_data.shape, damage_data.shape, healthy_data_top.shape, damage_data_top.shape, healthy_data_top_train.shape, healthy_data_top_val.shape"
   ]
  },
  {
   "cell_type": "markdown",
   "metadata": {},
   "source": [
    "### Base stream learner"
   ]
  },
  {
   "cell_type": "code",
   "execution_count": 29,
   "metadata": {},
   "outputs": [],
   "source": [
    "class StreamLearning:\n",
    "    def __init__(self, h_data, d_data, clf):\n",
    "        self.h_data = h_data # healthy state data\n",
    "        self.d_data = d_data # damage state data\n",
    "        self.clf = clf       # the OCC\n",
    "        self.ctr = 36        # current healthy instance (first health scen) \n",
    "        self.an_inst = []    # stores the indices of the anomalous instances\n",
    "        self.d_preds = []\n",
    "        self.h_preds = []\n",
    "        self.d_pred_proba = []\n",
    "        self.h_pred_proba = []\n",
    "\n",
    "    def support_include(self): # include into the support\n",
    "        self.clf.update(self.h_data[self.ctr])\n",
    "        self.ctr += 1\n",
    "\n",
    "    def is_cur_anomaly(self):\n",
    "        cur_inst = self.h_data[self.ctr]\n",
    "        self.h_pred_proba.append(self.clf.predict_proba(cur_inst)[0])\n",
    "        if self.clf.predict(cur_inst)[0] < 0:\n",
    "            self.an_inst.append(self.ctr)\n",
    "\n",
    "    def final_evaluation(self):\n",
    "        print(\"eval dam\")\n",
    "        self.d_preds = self.clf.predict(self.d_data)\n",
    "        print(\"eval healthy\")\n",
    "        self.h_preds = self.clf.predict(self.h_data)\n",
    "        self.d_pred_proba = self.clf.predict_proba(self.d_data)\n",
    "\n",
    "    def loop(self):\n",
    "        n_iters = self.h_data.shape[0] - self.ctr\n",
    "        # initialize \n",
    "        for i in range(self.ctr):\n",
    "            self.clf.update(self.h_data[i])\n",
    "        \n",
    "        # simulate data intake\n",
    "        for i in range(n_iters):\n",
    "            self.is_cur_anomaly()\n",
    "            self.support_include()\n",
    "        self.final_evaluation()"
   ]
  },
  {
   "cell_type": "markdown",
   "metadata": {},
   "source": [
    "### Method 0: Gaussian ellipsoid"
   ]
  },
  {
   "cell_type": "code",
   "execution_count": 30,
   "metadata": {},
   "outputs": [],
   "source": [
    "from scipy.spatial import distance\n",
    "from scipy.stats import chi2\n",
    "\n",
    "class IncrementalGaussianFitter:\n",
    "    def __init__(self):\n",
    "        self.mean = np.array([0.0, 0.0, 0.0])\n",
    "        self.covariance = np.eye(3)\n",
    "        self.count = 0\n",
    "\n",
    "    def update(self, new_point):\n",
    "        self.count += 1\n",
    "        old_mean = self.mean.copy()\n",
    "        self.mean += (new_point - self.mean) / self.count\n",
    "        self.covariance = ((self.count - 1) * self.covariance + \n",
    "                           np.outer(new_point - self.mean, new_point - self.mean)) / self.count\n",
    "\n",
    "    def get_mean(self):\n",
    "        return self.mean\n",
    "\n",
    "    def get_covariance(self):\n",
    "        return self.covariance\n",
    "    \n",
    "    def predict_proba(self, points):\n",
    "        if points.ndim == 1:\n",
    "            points = np.array([points])\n",
    "        confidence_level=0.95\n",
    "        threshold = chi2.ppf(confidence_level, df=3)  # df=3 for 3 dimensions\n",
    "        mahalanobis_distances = np.array([distance.mahalanobis(point, self.mean, np.linalg.inv(self.covariance)) \n",
    "                                          for point in points])\n",
    "        return (mahalanobis_distances ** 2) - threshold # the higher the more likely an anomaly\n",
    "    \n",
    "    def predict(self, points):\n",
    "        if points.ndim == 1:\n",
    "            points = np.array([points])\n",
    "        confidence_level=0.95\n",
    "        threshold = chi2.ppf(confidence_level, df=3)  # df=3 for 3 dimensions\n",
    "        mahalanobis_distances = np.array([distance.mahalanobis(point, self.mean, np.linalg.inv(self.covariance)) \n",
    "                                          for point in points])\n",
    "        result = mahalanobis_distances ** 2 <= threshold\n",
    "        result = [2*int(el) - 1  for el in result]\n",
    "        return result"
   ]
  },
  {
   "cell_type": "code",
   "execution_count": 31,
   "metadata": {},
   "outputs": [
    {
     "name": "stdout",
     "output_type": "stream",
     "text": [
      "eval dam\n",
      "eval healthy\n"
     ]
    }
   ],
   "source": [
    "slg = StreamLearning(healthy_data_top_train, damage_data_top, IncrementalGaussianFitter())\n",
    "slg.loop()"
   ]
  },
  {
   "cell_type": "code",
   "execution_count": 71,
   "metadata": {},
   "outputs": [],
   "source": [
    "import matplotlib\n",
    "matplotlib.use('Qt5Agg')\n",
    "import matplotlib.pyplot as plt\n",
    "plt.ion()  # Turn on interactive mode\n",
    "\n",
    "eigenvalues, eigenvectors = np.linalg.eig(slg.clf.covariance)\n",
    "\n",
    "# Create a grid for the ellipsoid\n",
    "u = np.linspace(0, 2 * np.pi, 100)\n",
    "v = np.linspace(0, np.pi, 100)\n",
    "y = 2*np.sqrt(eigenvalues[0])*np.outer(np.cos(u), np.sin(v)) # two standard deviation to cover 95% of the confidence \n",
    "x = 2*np.sqrt(eigenvalues[1])*np.outer(np.sin(u), np.sin(v))\n",
    "z = 2*np.sqrt(eigenvalues[2])*np.outer(np.ones(np.size(u)), np.cos(v))\n",
    "\n",
    "# Scale each point by the square root of the corresponding eigenvalue (standard deviation)\n",
    "for i in range(len(x)):\n",
    "    for j in range(len(x)):\n",
    "        [x[i, j], y[i, j], z[i, j]] = np.dot([x[i, j], y[i, j], z[i, j]], eigenvectors) + slg.clf.mean\n",
    "\n",
    "# Create a 3D plot\n",
    "fig = plt.figure()\n",
    "\n",
    "\n",
    "ax = fig.add_subplot(111, projection='3d')\n",
    "ax.axis('auto')\n",
    "\n",
    "# Plot the original points\n",
    "ax.scatter(healthy_data_top[:, 0], healthy_data_top[:, 1], healthy_data_top[:, 2], color='blue', marker='o')\n",
    "ax.scatter(damage_data_top[:, 0], damage_data_top[:, 1], damage_data_top[:, 2], color='red', marker='o')\n",
    "ax.set_xlim((-4, 1))\n",
    "ax.set_ylim((-1, 6))\n",
    "ax.set_zlim((-5, 3))\n",
    "\n",
    "# Plot the ellipsoid\n",
    "ax.plot_surface(x, y, z, color='orange', alpha=0.5)\n",
    "\n",
    "# Plot principal axes as line segments\n",
    "for i in range(3):\n",
    "    axis_start = np.zeros(3) + slg.clf.mean\n",
    "    axis_end =  eigenvectors[:, i] * np.sqrt(eigenvalues[i])*2 + slg.clf.mean  # Scale factor for visibility\n",
    "    ax.plot([axis_start[0], axis_end[0]], [axis_start[1], axis_end[1]], [axis_start[2], axis_end[2]], color='green', linewidth=2)\n",
    "\n",
    "ax.set_xlabel('PC 1')\n",
    "ax.set_ylabel('PC 2')\n",
    "ax.set_zlabel('PC 3')\n",
    "\n",
    "# save pc1pc2slg, pc2pc3slg, pc1pc3slg\n",
    "plt.show()"
   ]
  },
  {
   "cell_type": "code",
   "execution_count": 462,
   "metadata": {},
   "outputs": [
    {
     "data": {
      "text/plain": [
       "(301, 230, 324, 252)"
      ]
     },
     "execution_count": 462,
     "metadata": {},
     "output_type": "execute_result"
    }
   ],
   "source": [
    "np.sum(np.array(slg.d_preds) < 0), np.sum(np.array(slg.h_preds) > 0), len(slg.d_preds), len(slg.h_preds)"
   ]
  },
  {
   "cell_type": "code",
   "execution_count": 494,
   "metadata": {},
   "outputs": [],
   "source": [
    "import seaborn as sns\n",
    "%matplotlib inline\n",
    "def plot_anom(sl :StreamLearning, title):\n",
    "    sns.reset_defaults()\n",
    "    sns.reset_orig()\n",
    "\n",
    "    plt.figure(figsize=(15, 6))\n",
    "    nbr_epochs = healthy_data_top_train.shape[0] - 36 + damage_data_top.shape[0]\n",
    "    print(nbr_epochs)\n",
    "\n",
    "    an_scores = np.hstack((sl.h_pred_proba, sl.d_pred_proba)).reshape(-1, 1)\n",
    "    print(len(range(0, nbr_epochs+1, 36)))\n",
    "    for i in range(0, nbr_epochs+1, 36):\n",
    "        plt.axvline(x=i, color='red', linestyle='--', linewidth=0.8)\n",
    "\n",
    "    # scale and plot the bars\n",
    "    sc = StandardScaler()\n",
    "    obs = np.arange(len(an_scores))\n",
    "    std_entropies = sc.fit_transform(an_scores).flatten()\n",
    "    plt.axvspan(36*6, 36*15, color='yellow', alpha=0.08)\n",
    "    plt.bar(obs, std_entropies)\n",
    "    plt.ylim(0, 1.15*max(std_entropies))\n",
    "\n",
    "    plt.xlabel('Epoch (16,384 samples or 2.7 min per epoch)')\n",
    "    plt.ylabel('Standardized anomaly score')\n",
    "    plt.title(title)\n",
    "    text_pos = [i+18 for i in range(0, nbr_epochs, 36)]\n",
    "    \n",
    "    offset = 0\n",
    "    for idx, pos in enumerate(text_pos):\n",
    "        str_capt =  f'DS {idx+2+offset}'\n",
    "        if idx+2 == 7:\n",
    "            str_capt = f'DS 7/8 (T)'\n",
    "            offset = 1\n",
    "        plt.text(pos, max(std_entropies)*1.1, str_capt, ha='center', color='red')\n",
    "\n",
    "    plt.show()"
   ]
  },
  {
   "cell_type": "code",
   "execution_count": 495,
   "metadata": {},
   "outputs": [
    {
     "name": "stdout",
     "output_type": "stream",
     "text": [
      "540\n",
      "16\n"
     ]
    },
    {
     "data": {
      "image/png": "[encoded data removed]",
      "text/plain": [
       "<Figure size 1500x600 with 1 Axes>"
      ]
     },
     "metadata": {},
     "output_type": "display_data"
    }
   ],
   "source": [
    "plot_anom(slg, \"Incremental Gaussian Envelope Anomaly Scores\")"
   ]
  },
  {
   "cell_type": "markdown",
   "metadata": {},
   "source": [
    "### Online one class SVM"
   ]
  },
  {
   "cell_type": "code",
   "execution_count": 32,
   "metadata": {},
   "outputs": [
    {
     "data": {
      "text/plain": [
       "((252, 3), (324, 3))"
      ]
     },
     "execution_count": 32,
     "metadata": {},
     "output_type": "execute_result"
    }
   ],
   "source": [
    "healthy_data_top_train.shape, damage_data_top.shape"
   ]
  },
  {
   "cell_type": "code",
   "execution_count": 44,
   "metadata": {},
   "outputs": [],
   "source": [
    "from sklearn.svm import OneClassSVM\n",
    "from scipy.special import expit \n",
    "\n",
    "class IncrementalOneClassSVM:\n",
    "    def __init__(self, buffer_size = 36, retrain_size=20):\n",
    "        self.model = OneClassSVM(nu = 0.1, kernel='rbf')\n",
    "        self.buffer_size = buffer_size\n",
    "        self.retrain_size = retrain_size\n",
    "        self.data_buffer = []\n",
    "        self.support_vectors = None\n",
    "        self.ctr = 0\n",
    "        self.init_start = []\n",
    "        np.random.seed(4)\n",
    "\n",
    "    def initial_train(self, data):\n",
    "        self.model.fit(data)\n",
    "        self.support_vectors = self.model.support_vectors_\n",
    "\n",
    "    def _buffer_data(self, new_data):\n",
    "        self.data_buffer.extend(new_data)\n",
    "        if self.ctr < 36:\n",
    "            self.init_start.append(np.array(new_data).flatten())\n",
    "            if self.ctr == 35:\n",
    "                self.model.fit(np.array(self.init_start))\n",
    "                self.support_vectors = self.model.support_vectors_\n",
    "\n",
    "        elif len(self.data_buffer) > self.buffer_size:\n",
    "            self._update_model()\n",
    "\n",
    "    def _update_model(self):\n",
    "        new_data = np.array(self.data_buffer)\n",
    "        self.data_buffer = []\n",
    "\n",
    "        # Filtering new data - select data significantly different from current support vectors\n",
    "        # This is a simple distance-based filter for demonstration purposes\n",
    "        distance = np.min(np.linalg.norm(new_data[:, np.newaxis] - self.support_vectors, axis=2), axis=1)\n",
    "        significant_new_data = new_data[distance > np.percentile(distance, 50)]\n",
    "\n",
    "        if len(significant_new_data) > 0:\n",
    "            #combined_data = np.vstack([self.support_vectors, significant_new_data])\n",
    "            print(f\"Orig. nbr of support vectors of {self.support_vectors.shape[0]}\")\n",
    "            support_vector_entries = min(int(0.50 * self.retrain_size), self.support_vectors.shape[0])  # 20% from support vectors\n",
    "            print(f\"Sampled nbr of support vectors {support_vector_entries}\") # show number of support vectors (usually around 10)\n",
    "            new_data_entries = self.retrain_size - support_vector_entries  # remaining 80% from new data\n",
    "\n",
    "            # Selecting entries\n",
    "            selected_support_vectors = np.random.choice(self.support_vectors.shape[0], support_vector_entries, replace=False)\n",
    "            selected_new_data = np.random.choice(significant_new_data.shape[0], new_data_entries, replace=False)\n",
    "\n",
    "            # Retrain model with a subset of the data\n",
    "            subset_for_retraining = np.vstack([self.support_vectors[selected_support_vectors], significant_new_data[selected_new_data]])\n",
    "\n",
    "            self.model.fit(subset_for_retraining)\n",
    "            self.support_vectors = self.model.support_vectors_\n",
    "\n",
    "    def update(self, new_data):\n",
    "        \"\"\"\n",
    "        Add new data for training. This can be a single data point or multiple data points in a batch.\n",
    "        \"\"\"\n",
    "        if isinstance(new_data, list) or len(new_data.shape) > 1:\n",
    "            self._buffer_data(new_data)\n",
    "        else:\n",
    "            self._buffer_data([new_data]) \n",
    "        self.ctr += 1\n",
    "\n",
    "    def predict(self, data):\n",
    "        \"\"\"\n",
    "        Predict using the One-Class SVM model. \n",
    "        \"\"\"\n",
    "        if data.ndim == 1:\n",
    "            data = np.array([data])\n",
    "        return self.model.predict(data)\n",
    "    \n",
    "    def decision_function(self, data):\n",
    "        \"\"\"\n",
    "        Pseudo-probabilistic predict using the One-Class SVM model. \n",
    "        \"\"\"\n",
    "        if data.ndim == 1:\n",
    "            data = np.array([data])\n",
    "        decision_function = self.model.decision_function(data)\n",
    "        return decision_function\n",
    "    \n",
    "    def predict_proba(self, data):\n",
    "        \"\"\"\n",
    "        Pseudo-probabilistic predict using the One-Class SVM model. \n",
    "        \"\"\"\n",
    "        if data.ndim == 1:\n",
    "            data = np.array([data])\n",
    "        decision_function = self.model.decision_function(data)\n",
    "        return 1-expit(decision_function)"
   ]
  },
  {
   "cell_type": "code",
   "execution_count": 45,
   "metadata": {},
   "outputs": [
    {
     "name": "stdout",
     "output_type": "stream",
     "text": [
      "Orig. nbr of support vectors of 11\n",
      "Sampled nbr of support vectors 10\n",
      "Orig. nbr of support vectors of 9\n",
      "Sampled nbr of support vectors 9\n",
      "Orig. nbr of support vectors of 8\n",
      "Sampled nbr of support vectors 8\n",
      "Orig. nbr of support vectors of 9\n",
      "Sampled nbr of support vectors 9\n",
      "Orig. nbr of support vectors of 9\n",
      "Sampled nbr of support vectors 9\n",
      "Orig. nbr of support vectors of 9\n",
      "Sampled nbr of support vectors 9\n",
      "eval dam\n",
      "eval healthy\n"
     ]
    }
   ],
   "source": [
    "slsvc = StreamLearning(healthy_data_top_train, damage_data_top, IncrementalOneClassSVM())\n",
    "slsvc.loop()"
   ]
  },
  {
   "cell_type": "code",
   "execution_count": 46,
   "metadata": {},
   "outputs": [
    {
     "data": {
      "text/plain": [
       "(287, 225, 324, 252)"
      ]
     },
     "execution_count": 46,
     "metadata": {},
     "output_type": "execute_result"
    }
   ],
   "source": [
    "np.sum(np.array(slsvc.d_preds) < 0), np.sum(np.array(slsvc.h_preds) > 0), len(slsvc.d_preds), len(slsvc.h_preds)"
   ]
  },
  {
   "cell_type": "code",
   "execution_count": 500,
   "metadata": {},
   "outputs": [
    {
     "name": "stdout",
     "output_type": "stream",
     "text": [
      "540\n",
      "16\n"
     ]
    },
    {
     "data": {
      "image/png": "[encoded data removed]",
      "text/plain": [
       "<Figure size 1500x600 with 1 Axes>"
      ]
     },
     "metadata": {},
     "output_type": "display_data"
    }
   ],
   "source": [
    "plot_anom(slsvc, \"Incremental OCC-SVC Anomaly Scores\")"
   ]
  },
  {
   "cell_type": "code",
   "execution_count": 79,
   "metadata": {},
   "outputs": [],
   "source": [
    "def plot_decision_boundary(model, X_train, y_train):\n",
    "    x = np.linspace(X_train[:,0].min()-1, X_train[:,0].max()+1, 50)\n",
    "    y = np.linspace(X_train[:,1].min()-1, X_train[:,1].max()+1, 50)\n",
    "    z = np.linspace(X_train[:,2].min()-1, X_train[:,2].max()+1, 50)\n",
    "    xx, yy, zz = np.meshgrid(x, y, z)\n",
    "    grid = np.c_[xx.ravel(), yy.ravel(), zz.ravel()]\n",
    "\n",
    "    # Evaluate the model's decision function\n",
    "    decision_values = model.decision_function(grid)\n",
    "    decision_signs = np.sign(decision_values).reshape(xx.shape)\n",
    "\n",
    "    # Check for sign changes along each axis\n",
    "    diff_x = np.diff(decision_signs, axis=0)\n",
    "    diff_y = np.diff(decision_signs, axis=1)\n",
    "    diff_z = np.diff(decision_signs, axis=2)\n",
    "\n",
    "    # Combine the differences to locate boundary points\n",
    "    boundary_mask = np.zeros_like(decision_signs, dtype=bool)\n",
    "    boundary_mask[:-1,:,:] |= diff_x != 0\n",
    "    boundary_mask[:,:-1,:] |= diff_y != 0\n",
    "    boundary_mask[:,:,:-1] |= diff_z != 0\n",
    "\n",
    "    boundary_points = grid[boundary_mask.ravel()]\n",
    "\n",
    "    # Visualize the decision boundary\n",
    "    fig = plt.figure()\n",
    "    ax = fig.add_subplot(111, projection='3d')\n",
    "\n",
    "    # Plot the boundary points\n",
    "    ax.scatter(boundary_points[:, 0], boundary_points[:, 1], boundary_points[:, 2], color='orange', s=8, alpha=0.5)\n",
    "    ax.set_xlim((-4, 1))\n",
    "    ax.set_ylim((-1, 6))\n",
    "    ax.set_zlim((-5, 3))\n",
    "    #ax.plot_surface(boundary_points[:, 0], boundary_points[:, 1], boundary_points[:, 2], color='orange', alpha=0.5)\n",
    "\n",
    "    # Plot the training points\n",
    "    ax.scatter(X_train[:, 0], X_train[:, 1], X_train[:, 2], c=y_train, cmap=plt.cm.coolwarm, s=50)\n",
    "\n",
    "    ax.set_xlabel('PC 1')\n",
    "    ax.set_ylabel('PC 2')\n",
    "    ax.set_zlabel('PC 3')\n",
    "    plt.title(\"3D Decision Boundary of OCC-SVC\")\n",
    "    plt.show()"
   ]
  },
  {
   "cell_type": "code",
   "execution_count": null,
   "metadata": {},
   "outputs": [],
   "source": [
    "import matplotlib\n",
    "matplotlib.use('Qt5Agg') \n",
    "plot_decision_boundary(slsvc.clf, np.vstack((healthy_data_top, damage_data_top)), np.hstack((np.full(healthy_data_top.shape[0], 0), np.full(damage_data_top.shape[0], 1))))"
   ]
  },
  {
   "cell_type": "markdown",
   "metadata": {},
   "source": [
    "### Half space trees"
   ]
  },
  {
   "cell_type": "code",
   "execution_count": 75,
   "metadata": {},
   "outputs": [],
   "source": [
    "from river import compose\n",
    "from river import datasets\n",
    "from river import metrics\n",
    "from river import preprocessing\n",
    "\n",
    "class IncrementalHalfSpace():\n",
    "    def __init__(self, h_len, size = 36, n_trees = 70, height  = 3):\n",
    "        self.hst = compose.Pipeline(preprocessing.MinMaxScaler(), \n",
    "                                    anomaly.HalfSpaceTrees(n_trees=n_trees, height=height, window_size=size, seed=42))\n",
    "        self.ctr = 0\n",
    "        self.an_sc = [] # anomaly scores \n",
    "        self.h_len = h_len # number of healthy data points to expect \n",
    "\n",
    "    def update(self, data):\n",
    "        data = {f'x_{i}': val  for i, val in enumerate(data)}\n",
    "        self.ctr += 1\n",
    "        self.hst = self.hst.learn_one(data)\n",
    "\n",
    "    def predict_proba(self, data):\n",
    "        if data.ndim == 1:\n",
    "            data = {f'x_{i}': val  for i, val in enumerate(data)}\n",
    "            sc = self.hst.score_one(data)\n",
    "            if self.ctr < self.h_len:\n",
    "                self.an_sc.append(sc) # to find if an anomaly is in fact anomalous, we must have a (running) distribution of anomalies\n",
    "            return [sc]\n",
    "        else:\n",
    "            scores = []\n",
    "            for el in data:\n",
    "                inst = {f'x_{i}': val  for i, val in enumerate(el)}\n",
    "                scores.append(self.hst.score_one(inst)) \n",
    "            return scores\n",
    "        \n",
    "    def decision_function(self, data):\n",
    "        return (self.predict_proba(data) - np.mean(self.an_sc))/np.std(self.an_sc)\n",
    "        \n",
    "    def predict(self, data):\n",
    "        if data.ndim == 1:\n",
    "            data = {f'x_{i}': val  for i, val in enumerate(data)}\n",
    "            sc = self.hst.score_one(data)\n",
    "            if np.std(self.an_sc) < np.abs(sc - np.mean(self.an_sc)):\n",
    "                return [-1]\n",
    "            else:\n",
    "                return [1]\n",
    "        else:\n",
    "            scores = []\n",
    "            mu = np.mean(self.an_sc)\n",
    "            sigma = np.std(self.an_sc)\n",
    "            for el in data:\n",
    "                inst = {f'x_{i}': val for i, val in enumerate(el)}\n",
    "                sc = self.hst.score_one(inst)\n",
    "                if sigma < np.abs(sc - mu):\n",
    "                    scores.append(-1)\n",
    "                else:\n",
    "                    scores.append(1)\n",
    "            return scores"
   ]
  },
  {
   "cell_type": "code",
   "execution_count": 76,
   "metadata": {},
   "outputs": [
    {
     "name": "stdout",
     "output_type": "stream",
     "text": [
      "eval dam\n",
      "eval healthy\n"
     ]
    }
   ],
   "source": [
    "slhs = StreamLearning(healthy_data_top_train, damage_data_top, IncrementalHalfSpace(h_len = healthy_data_top.shape[0]))\n",
    "slhs.loop()"
   ]
  },
  {
   "cell_type": "code",
   "execution_count": 77,
   "metadata": {},
   "outputs": [
    {
     "data": {
      "text/plain": [
       "(300, 217, 324, 252)"
      ]
     },
     "execution_count": 77,
     "metadata": {},
     "output_type": "execute_result"
    }
   ],
   "source": [
    "np.sum(np.array(slhs.d_preds) < 0), np.sum(np.array(slhs.h_preds) > 0), len(slhs.d_preds), len(slhs.h_preds)"
   ]
  },
  {
   "cell_type": "code",
   "execution_count": 544,
   "metadata": {},
   "outputs": [
    {
     "name": "stdout",
     "output_type": "stream",
     "text": [
      "540\n",
      "16\n"
     ]
    },
    {
     "data": {
      "image/png": "[encoded data removed]",
      "text/plain": [
       "<Figure size 1500x600 with 1 Axes>"
      ]
     },
     "metadata": {},
     "output_type": "display_data"
    }
   ],
   "source": [
    "plot_anom(slhs, \"Incremental Half-Space Forest Anomaly Scores\")"
   ]
  },
  {
   "cell_type": "code",
   "execution_count": null,
   "metadata": {},
   "outputs": [],
   "source": [
    "plot_decision_boundary(slhs.clf, np.vstack((healthy_data_top, damage_data_top)), np.hstack((np.full(healthy_data_top.shape[0], 0), np.full(damage_data_top.shape[0], 1))))"
   ]
  }
 ],
 "metadata": {
  "kernelspec": {
   "display_name": "Python 3",
   "language": "python",
   "name": "python3"
  },
  "language_info": {
   "codemirror_mode": {
    "name": "ipython",
    "version": 3
   },
   "file_extension": ".py",
   "mimetype": "text/x-python",
   "name": "python",
   "nbconvert_exporter": "python",
   "pygments_lexer": "ipython3",
   "version": "3.11.5"
  }
 },
 "nbformat": 4,
 "nbformat_minor": 2
}
