{
 "cells": [
  {
   "cell_type": "markdown",
   "metadata": {},
   "source": [
    "## Incremental learning with River"
   ]
  },
  {
   "cell_type": "code",
   "execution_count": 85,
   "metadata": {},
   "outputs": [],
   "source": [
    "from river import active\n",
    "from river import datasets\n",
    "import numpy as np\n",
    "from river import feature_extraction\n",
    "from river import linear_model\n",
    "from sklearn.linear_model import LogisticRegression\n",
    "from river import metrics\n",
    "import sys\n",
    "sys.path.append('.\\\\..\\\\..\\\\..\\\\Chapter2-Z24-dataset')\n",
    "from predict import binarize\n",
    "import os\n",
    "from sklearn.neighbors import KNeighborsClassifier"
   ]
  },
  {
   "cell_type": "code",
   "execution_count": 86,
   "metadata": {},
   "outputs": [],
   "source": [
    "X_train = np.load(\"C:\\\\Users\\\\amroa\\\\Documents\\\\thesis\\\\X_train.npy\")\n",
    "labels_train = np.load(\"C:\\\\Users\\\\amroa\\\\Documents\\\\thesis\\\\labels_train.npy\")\n",
    "X_test = np.load(\"C:\\\\Users\\\\amroa\\\\Documents\\\\thesis\\\\X_test.npy\")\n",
    "labels_test = np.load(\"C:\\\\Users\\\\amroa\\\\Documents\\\\thesis\\\\labels_test.npy\")"
   ]
  },
  {
   "cell_type": "code",
   "execution_count": 87,
   "metadata": {},
   "outputs": [
    {
     "data": {
      "text/plain": [
       "((544, 906), (68, 906))"
      ]
     },
     "execution_count": 87,
     "metadata": {},
     "output_type": "execute_result"
    }
   ],
   "source": [
    "X_train.shape, \\\n",
    "X_test.shape"
   ]
  },
  {
   "cell_type": "code",
   "execution_count": 89,
   "metadata": {},
   "outputs": [],
   "source": [
    "# define hyperparameters\n",
    "features_to_keep = 79\n",
    "neighbors = 41\n",
    "\n",
    "y_train = binarize(labels_train)\n",
    "log_reg = LogisticRegression(C = 12.5) \n",
    "y_train = binarize(labels_train)\n",
    "log_reg.fit(X_train, y_train)\n",
    "sorted_feature_indices = np.argsort(log_reg.coef_[0])[::-1] # get the indices of the most important features in descending order"
   ]
  },
  {
   "cell_type": "code",
   "execution_count": 90,
   "metadata": {},
   "outputs": [],
   "source": [
    "# dimensionality reduction (to stabilize KNN and avoid dimensionality curse)\n",
    "indices = sorted_feature_indices[:features_to_keep]\n",
    "X_train_top_feats = X_train[:, indices]"
   ]
  },
  {
   "cell_type": "markdown",
   "metadata": {},
   "source": [
    "### Method 1: Entropy-sampling "
   ]
  },
  {
   "cell_type": "code",
   "execution_count": 102,
   "metadata": {},
   "outputs": [
    {
     "name": "stdout",
     "output_type": "stream",
     "text": [
      "Accuracy: 97.98%\n",
      "Number of samples used for learning: 59\n"
     ]
    }
   ],
   "source": [
    "from sklearn import datasets as skdatasets  # Import to avoid naming conflicts\n",
    "from river import active\n",
    "from river import datasets\n",
    "from river import linear_model\n",
    "from river import metrics\n",
    "\n",
    "# Prepare the data in a format compatible with river\n",
    "X_river = [\n",
    "    {f\"feature_{i}\": value for i, value in enumerate(sample)}\n",
    "    for sample in X_train_top_feats\n",
    "]\n",
    "y_river = y_train.tolist()  # Converting to list for easier iteration\n",
    "\n",
    "metric = metrics.Accuracy()\n",
    "base_model = linear_model.LogisticRegression()\n",
    "model = active.EntropySampler(base_model, discount_factor=100, seed=42)\n",
    "\n",
    "n_samples_used = 0\n",
    "\n",
    "# Process each sample in the dataset\n",
    "for i in range(len(X_river)):\n",
    "    x = X_river[i]\n",
    "    y_true = y_river[i]\n",
    "    y_pred, ask = model.predict_one(x)  # x is now a dictionary\n",
    "    metric = metric.update(y_true, y_pred)\n",
    "\n",
    "    if ask:\n",
    "        n_samples_used += 1\n",
    "        model = model.learn_one(x, y_true)  # Learn from the true label\n",
    "\n",
    "print(metric)\n",
    "print(f\"Number of samples used for learning: {n_samples_used}\")"
   ]
  },
  {
   "cell_type": "markdown",
   "metadata": {},
   "source": [
    "#### Testing phase"
   ]
  },
  {
   "cell_type": "code",
   "execution_count": 103,
   "metadata": {},
   "outputs": [],
   "source": [
    "X_test_top_f = X_test[:, indices]\n",
    "y_test = binarize(labels_test)"
   ]
  },
  {
   "cell_type": "code",
   "execution_count": 104,
   "metadata": {},
   "outputs": [
    {
     "name": "stdout",
     "output_type": "stream",
     "text": [
      "Accuracy: 97.06%\n"
     ]
    }
   ],
   "source": [
    "X_river_test = [\n",
    "    {f\"feature_{i}\": value for i, value in enumerate(sample)}\n",
    "    for sample in X_test_top_f\n",
    "]\n",
    "y_river_test = y_test.tolist()  # Converting to list for easier iteration\n",
    "metric = metrics.Accuracy()\n",
    "\n",
    "# Process each sample in the dataset\n",
    "for i in range(len(X_river_test)):\n",
    "    x = X_river_test[i]\n",
    "    y_true = y_river_test[i]\n",
    "    y_pred, _ = model.predict_one(x)  # x is now a dictionary\n",
    "    metric = metric.update(y_true, y_pred)\n",
    "\n",
    "print(metric)"
   ]
  },
  {
   "cell_type": "markdown",
   "metadata": {},
   "source": [
    "### Method 2: Anomaly detection using Gaussian scoring"
   ]
  },
  {
   "cell_type": "code",
   "execution_count": 194,
   "metadata": {},
   "outputs": [],
   "source": [
    "import random\n",
    "from river import anomaly\n",
    "\n",
    "def gaussian_scorer_multi(y_values, window_size = 25, grace_period = 10, plot = True):\n",
    "    from functools import reduce\n",
    "    num_vals = y_values.shape[1]\n",
    "    rng = random.Random(42)\n",
    "    detectors = [anomaly.GaussianScorer(window_size=window_size, grace_period=grace_period) for el in range(num_vals)]\n",
    "    anomaly_scores = [[] for el in range(num_vals)]\n",
    "\n",
    "    for idx, detector in enumerate(detectors):\n",
    "        for obs_idx, y in enumerate(y_values[:-1, idx]):\n",
    "            detector = detector.learn_one(None, y) \n",
    "            anomaly_scores[idx].append(detector.score_one(None, y_values[obs_idx+1, idx]))\n",
    "\n",
    "    anomaly_scores_np = [np.array(el) for el in anomaly_scores]\n",
    "    result = np.minimum.reduce(anomaly_scores_np) #reduce(np.multiply, anomaly_scores_np)\n",
    "\n",
    "    if plot:\n",
    "        import matplotlib.pyplot as plt\n",
    "        x = np.arange(len(result))\n",
    "        plt.bar(x, result)\n",
    "        #.semilogy(True)\n",
    "\n",
    "        plt.xlabel('Observation')\n",
    "        plt.ylabel('Gaussian anomaly score')\n",
    "        plt.title(r'Anomaly score: $score = 2 \\|CDF(y) - 0.5\\|$')\n",
    "        #plt.xticks(x, [f'Label {i}' for i in x])  # Sample x-axis tick labels\n",
    "\n",
    "        plt.show()\n",
    "    return result"
   ]
  },
  {
   "cell_type": "code",
   "execution_count": 219,
   "metadata": {},
   "outputs": [
    {
     "data": {
      "image/png": "[encoded data removed]",
      "text/plain": [
       "<Figure size 640x480 with 1 Axes>"
      ]
     },
     "metadata": {},
     "output_type": "display_data"
    }
   ],
   "source": [
    "result = gaussian_scorer_multi(X_train_top_feats, window_size = 45, grace_period = 20)"
   ]
  },
  {
   "cell_type": "code",
   "execution_count": 220,
   "metadata": {},
   "outputs": [
    {
     "data": {
      "text/plain": [
       "(array([256, 257, 258, 259, 260, 261, 262, 263, 264, 265, 266, 267, 268,\n",
       "        269, 270, 271, 272, 273, 274, 275], dtype=int64),\n",
       " 253)"
      ]
     },
     "execution_count": 220,
     "metadata": {},
     "output_type": "execute_result"
    }
   ],
   "source": [
    "np.where(y_train == 1)[0][0:20], \\\n",
    "np.argmax(result)"
   ]
  },
  {
   "cell_type": "markdown",
   "metadata": {},
   "source": [
    "#### Supplementary: Example usage of RiverML on iris from Sklearn"
   ]
  },
  {
   "cell_type": "code",
   "execution_count": 79,
   "metadata": {},
   "outputs": [
    {
     "data": {
      "text/plain": [
       "'\\nfrom sklearn import datasets as skdatasets  # Import to avoid naming conflicts\\nfrom river import active\\nfrom river import datasets\\nfrom river import linear_model\\nfrom river import metrics\\n\\n# Load the iris dataset from sklearn\\niris_sk = skdatasets.load_iris()\\n\\n# Prepare the data in a format compatible with river\\nX_river = [\\n    {f\"feature_{i}\": value for i, value in enumerate(sample)}\\n    for sample in iris_sk[\\'data\\']\\n]\\ny_river = iris_sk[\\'target\\'].tolist()  # Converting to list for easier iteration\\n\\nmetric = metrics.Accuracy()\\nbase_model = linear_model.LogisticRegression()\\nmodel = active.EntropySampler(base_model, seed=42)\\n\\nn_samples_used = 0\\n\\n# Process each sample in the dataset\\nfor i in range(len(X_river)):\\n    x = X_river[i]\\n    y_true = y_river[i]\\n    y_pred, ask = model.predict_one(x)  # x is now a dictionary\\n    metric = metric.update(y_true, y_pred)\\n\\n    if ask:\\n        n_samples_used += 1\\n        model = model.learn_one(x, y_true)  # Learn from the true label\\n\\nprint(metric)\\nprint(f\"Number of samples used for learning: {n_samples_used}\")\\n'"
      ]
     },
     "execution_count": 79,
     "metadata": {},
     "output_type": "execute_result"
    }
   ],
   "source": [
    "\"\"\"\n",
    "from sklearn import datasets as skdatasets  # Import to avoid naming conflicts\n",
    "from river import active\n",
    "from river import datasets\n",
    "from river import linear_model\n",
    "from river import metrics\n",
    "\n",
    "# Load the iris dataset from sklearn\n",
    "iris_sk = skdatasets.load_iris()\n",
    "\n",
    "# Prepare the data in a format compatible with river\n",
    "X_river = [\n",
    "    {f\"feature_{i}\": value for i, value in enumerate(sample)}\n",
    "    for sample in iris_sk['data']\n",
    "]\n",
    "y_river = iris_sk['target'].tolist()  # Converting to list for easier iteration\n",
    "\n",
    "metric = metrics.Accuracy()\n",
    "base_model = linear_model.LogisticRegression()\n",
    "model = active.EntropySampler(base_model, seed=42)\n",
    "\n",
    "n_samples_used = 0\n",
    "\n",
    "# Process each sample in the dataset\n",
    "for i in range(len(X_river)):\n",
    "    x = X_river[i]\n",
    "    y_true = y_river[i]\n",
    "    y_pred, ask = model.predict_one(x)  # x is now a dictionary\n",
    "    metric = metric.update(y_true, y_pred)\n",
    "\n",
    "    if ask:\n",
    "        n_samples_used += 1\n",
    "        model = model.learn_one(x, y_true)  # Learn from the true label\n",
    "\n",
    "print(metric)\n",
    "print(f\"Number of samples used for learning: {n_samples_used}\")\n",
    "\"\"\""
   ]
  },
  {
   "cell_type": "markdown",
   "metadata": {},
   "source": []
  }
 ],
 "metadata": {
  "kernelspec": {
   "display_name": "Python 3",
   "language": "python",
   "name": "python3"
  },
  "language_info": {
   "codemirror_mode": {
    "name": "ipython",
    "version": 3
   },
   "file_extension": ".py",
   "mimetype": "text/x-python",
   "name": "python",
   "nbconvert_exporter": "python",
   "pygments_lexer": "ipython3",
   "version": "3.11.5"
  }
 },
 "nbformat": 4,
 "nbformat_minor": 2
}
